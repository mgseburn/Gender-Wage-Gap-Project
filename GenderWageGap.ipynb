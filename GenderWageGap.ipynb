{
 "cells": [
  {
   "cell_type": "code",
   "execution_count": 99,
   "id": "a8653af0-e28c-4ef9-8887-e1efdca380bf",
   "metadata": {},
   "outputs": [],
   "source": [
    "import pandas as pd\n",
    "import streamlit as st\n",
    "import matplotlib.pyplot as plt\n",
    "import plotly.express as px"
   ]
  },
  {
   "cell_type": "code",
   "execution_count": 3,
   "id": "66501dfd-0d09-499c-9ea4-d759f06b5189",
   "metadata": {},
   "outputs": [
    {
     "name": "stdout",
     "output_type": "stream",
     "text": [
      "Requirement already satisfied: plotly in c:\\users\\mgseb\\anaconda3\\envs\\mgt4250\\lib\\site-packages (5.22.0)\n",
      "Requirement already satisfied: tenacity>=6.2.0 in c:\\users\\mgseb\\anaconda3\\envs\\mgt4250\\lib\\site-packages (from plotly) (8.2.3)\n",
      "Requirement already satisfied: packaging in c:\\users\\mgseb\\anaconda3\\envs\\mgt4250\\lib\\site-packages (from plotly) (23.1)\n",
      "Note: you may need to restart the kernel to use updated packages.\n"
     ]
    }
   ],
   "source": [
    "pip install plotly"
   ]
  },
  {
   "cell_type": "code",
   "execution_count": 100,
   "id": "81c75099-8dbe-4573-8020-16581b8fed80",
   "metadata": {},
   "outputs": [],
   "source": [
    "df=pd.read_excel(\"Women_Earnings_as_a_percentage.xlsx\")"
   ]
  },
  {
   "cell_type": "code",
   "execution_count": 101,
   "id": "c9bfd57b-d0c0-4985-9f4b-63adbdf999f4",
   "metadata": {},
   "outputs": [
    {
     "data": {
      "text/plain": [
       "Index(['Year', '16-19', '20-24', '25-34', '35-44', '45-54', '55-64', '65<'], dtype='object')"
      ]
     },
     "execution_count": 101,
     "metadata": {},
     "output_type": "execute_result"
    }
   ],
   "source": [
    "df.columns"
   ]
  },
  {
   "cell_type": "code",
   "execution_count": 102,
   "id": "1c524038-d8c8-4534-bbc5-ff8422d89a6a",
   "metadata": {},
   "outputs": [],
   "source": [
    "df_melted = df.melt(id_vars=\"Year\", var_name=\"Age Range\", value_name=\"Percentage\")\n",
    "colors = px.colors.qualitative.Set1[:len(df_melted['Age Range'].unique())]\n"
   ]
  },
  {
   "cell_type": "code",
   "execution_count": 103,
   "id": "3f0b6d32-cb6a-4d3c-85e4-e5dc8cdb90e3",
   "metadata": {},
   "outputs": [
    {
     "data": {
      "application/vnd.plotly.v1+json": {
       "config": {
        "plotlyServerURL": "https://plot.ly"
       },
       "data": [
        {
         "hovertemplate": "Age Range=16-19<br>Year=%{x}<br>Percentage=%{y}<extra></extra>",
         "legendgroup": "16-19",
         "line": {
          "color": "rgb(228,26,28)",
          "dash": "solid"
         },
         "marker": {
          "symbol": "circle"
         },
         "mode": "lines",
         "name": "16-19",
         "orientation": "v",
         "showlegend": true,
         "type": "scatter",
         "x": [
          1979,
          1980,
          1981,
          1982,
          1983,
          1984,
          1985,
          1986,
          1987,
          1988,
          1989,
          1990,
          1991,
          1992,
          1993,
          1994,
          1995,
          1996,
          1997,
          1998,
          1999,
          2000,
          2001,
          2002,
          2003,
          2004,
          2005,
          2006,
          2007,
          2008,
          2009,
          2010,
          2011,
          2012,
          2013,
          2014,
          2015,
          2016,
          2017,
          2018,
          2019,
          2020,
          2021,
          2022
         ],
         "xaxis": "x",
         "y": [
          85.2,
          89.5,
          91.7,
          92.9,
          94,
          93.1,
          90.7,
          91.4,
          87.8,
          89.8,
          94.3,
          90.8,
          93.6,
          94,
          92.8,
          92.5,
          88.1,
          88.8,
          91.6,
          88.6,
          91.4,
          92.5,
          90.3,
          94.6,
          93.1,
          92.1,
          92.1,
          87.6,
          89.1,
          87.3,
          90.7,
          94.6,
          88.6,
          88.5,
          89.7,
          91.1,
          89.4,
          92.6,
          87.6,
          89.4,
          84.4,
          90.4,
          88.6,
          90
         ],
         "yaxis": "y"
        },
        {
         "hovertemplate": "Age Range=20-24<br>Year=%{x}<br>Percentage=%{y}<extra></extra>",
         "legendgroup": "20-24",
         "line": {
          "color": "rgb(55,126,184)",
          "dash": "solid"
         },
         "marker": {
          "symbol": "circle"
         },
         "mode": "lines",
         "name": "20-24",
         "orientation": "v",
         "showlegend": true,
         "type": "scatter",
         "x": [
          1979,
          1980,
          1981,
          1982,
          1983,
          1984,
          1985,
          1986,
          1987,
          1988,
          1989,
          1990,
          1991,
          1992,
          1993,
          1994,
          1995,
          1996,
          1997,
          1998,
          1999,
          2000,
          2001,
          2002,
          2003,
          2004,
          2005,
          2006,
          2007,
          2008,
          2009,
          2010,
          2011,
          2012,
          2013,
          2014,
          2015,
          2016,
          2017,
          2018,
          2019,
          2020,
          2021,
          2022
         ],
         "xaxis": "x",
         "y": [
          76.3,
          78.1,
          80.6,
          82.4,
          85.5,
          85.2,
          85.7,
          87.5,
          88,
          90,
          89.7,
          90.3,
          93.3,
          94.3,
          95.4,
          94.5,
          92.4,
          92.8,
          90.5,
          89.4,
          90.5,
          92.7,
          91.9,
          93.9,
          93.9,
          93.8,
          93.8,
          94.9,
          90.3,
          92.5,
          92.9,
          93.8,
          93.2,
          89,
          89.8,
          92.3,
          89.7,
          95.6,
          90.2,
          92.2,
          90.4,
          93.5,
          92.3,
          92.9
         ],
         "yaxis": "y"
        },
        {
         "hovertemplate": "Age Range=25-34<br>Year=%{x}<br>Percentage=%{y}<extra></extra>",
         "legendgroup": "25-34",
         "line": {
          "color": "rgb(77,175,74)",
          "dash": "solid"
         },
         "marker": {
          "symbol": "circle"
         },
         "mode": "lines",
         "name": "25-34",
         "orientation": "v",
         "showlegend": true,
         "type": "scatter",
         "x": [
          1979,
          1980,
          1981,
          1982,
          1983,
          1984,
          1985,
          1986,
          1987,
          1988,
          1989,
          1990,
          1991,
          1992,
          1993,
          1994,
          1995,
          1996,
          1997,
          1998,
          1999,
          2000,
          2001,
          2002,
          2003,
          2004,
          2005,
          2006,
          2007,
          2008,
          2009,
          2010,
          2011,
          2012,
          2013,
          2014,
          2015,
          2016,
          2017,
          2018,
          2019,
          2020,
          2021,
          2022
         ],
         "xaxis": "x",
         "y": [
          67.5,
          69.4,
          70.3,
          72.1,
          73.3,
          74.6,
          75.1,
          76.1,
          76.7,
          77.7,
          78.3,
          79.3,
          81,
          82,
          83,
          82.9,
          82.2,
          83.2,
          82.9,
          82.9,
          81.5,
          82.4,
          83,
          84.5,
          86.9,
          87.8,
          89,
          88.2,
          86.9,
          88.5,
          88.7,
          90.8,
          92.3,
          90.2,
          89.4,
          89.9,
          89.6,
          88.8,
          88.2,
          87,
          87.8,
          89.5,
          90.6,
          90.2
         ],
         "yaxis": "y"
        },
        {
         "hovertemplate": "Age Range=35-44<br>Year=%{x}<br>Percentage=%{y}<extra></extra>",
         "legendgroup": "35-44",
         "line": {
          "color": "rgb(152,78,163)",
          "dash": "solid"
         },
         "marker": {
          "symbol": "circle"
         },
         "mode": "lines",
         "name": "35-44",
         "orientation": "v",
         "showlegend": true,
         "type": "scatter",
         "x": [
          1979,
          1980,
          1981,
          1982,
          1983,
          1984,
          1985,
          1986,
          1987,
          1988,
          1989,
          1990,
          1991,
          1992,
          1993,
          1994,
          1995,
          1996,
          1997,
          1998,
          1999,
          2000,
          2001,
          2002,
          2003,
          2004,
          2005,
          2006,
          2007,
          2008,
          2009,
          2010,
          2011,
          2012,
          2013,
          2014,
          2015,
          2016,
          2017,
          2018,
          2019,
          2020,
          2021,
          2022
         ],
         "xaxis": "x",
         "y": [
          58.3,
          58.3,
          59.9,
          61.1,
          61.5,
          62,
          63,
          63.9,
          66.1,
          68.5,
          68.3,
          69.6,
          70.7,
          71.9,
          73,
          72.6,
          72.6,
          73.3,
          74,
          73.6,
          71.7,
          71.6,
          72.5,
          75.2,
          76.1,
          75.6,
          75.5,
          77.2,
          76.5,
          74.5,
          77.4,
          79.9,
          78.5,
          78.1,
          80.2,
          81,
          81.8,
          83.3,
          81,
          79.6,
          80.1,
          81.2,
          79.9,
          82.1
         ],
         "yaxis": "y"
        },
        {
         "hovertemplate": "Age Range=45-54<br>Year=%{x}<br>Percentage=%{y}<extra></extra>",
         "legendgroup": "45-54",
         "line": {
          "color": "rgb(255,127,0)",
          "dash": "solid"
         },
         "marker": {
          "symbol": "circle"
         },
         "mode": "lines",
         "name": "45-54",
         "orientation": "v",
         "showlegend": true,
         "type": "scatter",
         "x": [
          1979,
          1980,
          1981,
          1982,
          1983,
          1984,
          1985,
          1986,
          1987,
          1988,
          1989,
          1990,
          1991,
          1992,
          1993,
          1994,
          1995,
          1996,
          1997,
          1998,
          1999,
          2000,
          2001,
          2002,
          2003,
          2004,
          2005,
          2006,
          2007,
          2008,
          2009,
          2010,
          2011,
          2012,
          2013,
          2014,
          2015,
          2016,
          2017,
          2018,
          2019,
          2020,
          2021,
          2022
         ],
         "xaxis": "x",
         "y": [
          56.8,
          56.9,
          56.8,
          60.1,
          59.5,
          59.4,
          59.7,
          60.9,
          62.3,
          61.7,
          62.7,
          63.8,
          65,
          65.8,
          67.4,
          67.1,
          67.7,
          68.9,
          69.4,
          70.5,
          70,
          73.2,
          73.5,
          74.6,
          73,
          72.9,
          75.5,
          73.5,
          74.5,
          74.9,
          73.6,
          76.5,
          76,
          75.1,
          76.6,
          77.2,
          76.8,
          77.8,
          77.5,
          77,
          77.3,
          77.5,
          78.1,
          79.2
         ],
         "yaxis": "y"
        },
        {
         "hovertemplate": "Age Range=55-64<br>Year=%{x}<br>Percentage=%{y}<extra></extra>",
         "legendgroup": "55-64",
         "line": {
          "color": "rgb(255,255,51)",
          "dash": "solid"
         },
         "marker": {
          "symbol": "circle"
         },
         "mode": "lines",
         "name": "55-64",
         "orientation": "v",
         "showlegend": true,
         "type": "scatter",
         "x": [
          1979,
          1980,
          1981,
          1982,
          1983,
          1984,
          1985,
          1986,
          1987,
          1988,
          1989,
          1990,
          1991,
          1992,
          1993,
          1994,
          1995,
          1996,
          1997,
          1998,
          1999,
          2000,
          2001,
          2002,
          2003,
          2004,
          2005,
          2006,
          2007,
          2008,
          2009,
          2010,
          2011,
          2012,
          2013,
          2014,
          2015,
          2016,
          2017,
          2018,
          2019,
          2020,
          2021,
          2022
         ],
         "xaxis": "x",
         "y": [
          60.6,
          59.4,
          58.9,
          61.4,
          61.8,
          61.5,
          61,
          61.2,
          62.2,
          62.3,
          63.9,
          63.7,
          64.5,
          64.9,
          67.4,
          66,
          64.7,
          65.3,
          64.7,
          68.1,
          67.9,
          69.1,
          70.5,
          71.6,
          72.7,
          73,
          74.7,
          72.9,
          72.8,
          75.4,
          75.3,
          75.2,
          75.1,
          76.2,
          77.1,
          76.4,
          73.7,
          73.7,
          78,
          75,
          75.5,
          77.8,
          77.7,
          77.8
         ],
         "yaxis": "y"
        },
        {
         "hovertemplate": "Age Range=65<<br>Year=%{x}<br>Percentage=%{y}<extra></extra>",
         "legendgroup": "65<",
         "line": {
          "color": "rgb(166,86,40)",
          "dash": "solid"
         },
         "marker": {
          "symbol": "circle"
         },
         "mode": "lines",
         "name": "65<",
         "orientation": "v",
         "showlegend": true,
         "type": "scatter",
         "x": [
          1979,
          1980,
          1981,
          1982,
          1983,
          1984,
          1985,
          1986,
          1987,
          1988,
          1989,
          1990,
          1991,
          1992,
          1993,
          1994,
          1995,
          1996,
          1997,
          1998,
          1999,
          2000,
          2001,
          2002,
          2003,
          2004,
          2005,
          2006,
          2007,
          2008,
          2009,
          2010,
          2011,
          2012,
          2013,
          2014,
          2015,
          2016,
          2017,
          2018,
          2019,
          2020,
          2021,
          2022
         ],
         "xaxis": "x",
         "y": [
          77.6,
          76.4,
          71.1,
          70.3,
          68.8,
          66.8,
          65.9,
          71.5,
          68.7,
          70.9,
          74.3,
          74.4,
          68.3,
          77.9,
          74.3,
          76.2,
          80,
          70,
          77,
          72.6,
          78.7,
          75.1,
          69,
          73.8,
          71.1,
          74.6,
          76.4,
          77.5,
          77.8,
          74.8,
          76.1,
          75.7,
          80.9,
          77.6,
          73.7,
          78.6,
          73.8,
          75.5,
          77,
          77.2,
          76.5,
          80.4,
          76.8,
          73.1
         ],
         "yaxis": "y"
        }
       ],
       "layout": {
        "autosize": true,
        "legend": {
         "title": {
          "text": "Age Range"
         },
         "tracegroupgap": 0
        },
        "shapes": [
         {
          "line": {
           "dash": "dash"
          },
          "type": "line",
          "x0": 0,
          "x1": 1,
          "xref": "x domain",
          "y0": 100,
          "y1": 100,
          "yref": "y"
         }
        ],
        "template": {
         "data": {
          "candlestick": [
           {
            "decreasing": {
             "line": {
              "color": "#000033"
             }
            },
            "increasing": {
             "line": {
              "color": "#000032"
             }
            },
            "type": "candlestick"
           }
          ],
          "contour": [
           {
            "colorscale": [
             [
              0,
              "#000011"
             ],
             [
              0.1111111111111111,
              "#000012"
             ],
             [
              0.2222222222222222,
              "#000013"
             ],
             [
              0.3333333333333333,
              "#000014"
             ],
             [
              0.4444444444444444,
              "#000015"
             ],
             [
              0.5555555555555556,
              "#000016"
             ],
             [
              0.6666666666666666,
              "#000017"
             ],
             [
              0.7777777777777778,
              "#000018"
             ],
             [
              0.8888888888888888,
              "#000019"
             ],
             [
              1,
              "#000020"
             ]
            ],
            "type": "contour"
           }
          ],
          "contourcarpet": [
           {
            "colorscale": [
             [
              0,
              "#000011"
             ],
             [
              0.1111111111111111,
              "#000012"
             ],
             [
              0.2222222222222222,
              "#000013"
             ],
             [
              0.3333333333333333,
              "#000014"
             ],
             [
              0.4444444444444444,
              "#000015"
             ],
             [
              0.5555555555555556,
              "#000016"
             ],
             [
              0.6666666666666666,
              "#000017"
             ],
             [
              0.7777777777777778,
              "#000018"
             ],
             [
              0.8888888888888888,
              "#000019"
             ],
             [
              1,
              "#000020"
             ]
            ],
            "type": "contourcarpet"
           }
          ],
          "heatmap": [
           {
            "colorscale": [
             [
              0,
              "#000011"
             ],
             [
              0.1111111111111111,
              "#000012"
             ],
             [
              0.2222222222222222,
              "#000013"
             ],
             [
              0.3333333333333333,
              "#000014"
             ],
             [
              0.4444444444444444,
              "#000015"
             ],
             [
              0.5555555555555556,
              "#000016"
             ],
             [
              0.6666666666666666,
              "#000017"
             ],
             [
              0.7777777777777778,
              "#000018"
             ],
             [
              0.8888888888888888,
              "#000019"
             ],
             [
              1,
              "#000020"
             ]
            ],
            "type": "heatmap"
           }
          ],
          "histogram2d": [
           {
            "colorscale": [
             [
              0,
              "#000011"
             ],
             [
              0.1111111111111111,
              "#000012"
             ],
             [
              0.2222222222222222,
              "#000013"
             ],
             [
              0.3333333333333333,
              "#000014"
             ],
             [
              0.4444444444444444,
              "#000015"
             ],
             [
              0.5555555555555556,
              "#000016"
             ],
             [
              0.6666666666666666,
              "#000017"
             ],
             [
              0.7777777777777778,
              "#000018"
             ],
             [
              0.8888888888888888,
              "#000019"
             ],
             [
              1,
              "#000020"
             ]
            ],
            "type": "histogram2d"
           }
          ],
          "icicle": [
           {
            "textfont": {
             "color": "white"
            },
            "type": "icicle"
           }
          ],
          "sankey": [
           {
            "textfont": {
             "color": "#000036"
            },
            "type": "sankey"
           }
          ],
          "scatter": [
           {
            "marker": {
             "line": {
              "width": 0
             }
            },
            "type": "scatter"
           }
          ],
          "table": [
           {
            "cells": {
             "fill": {
              "color": "#000038"
             },
             "font": {
              "color": "#000037"
             },
             "line": {
              "color": "#000039"
             }
            },
            "header": {
             "fill": {
              "color": "#000040"
             },
             "font": {
              "color": "#000036"
             },
             "line": {
              "color": "#000039"
             }
            },
            "type": "table"
           }
          ],
          "waterfall": [
           {
            "connector": {
             "line": {
              "color": "#000036",
              "width": 2
             }
            },
            "decreasing": {
             "marker": {
              "color": "#000033"
             }
            },
            "increasing": {
             "marker": {
              "color": "#000032"
             }
            },
            "totals": {
             "marker": {
              "color": "#000034"
             }
            },
            "type": "waterfall"
           }
          ]
         },
         "layout": {
          "coloraxis": {
           "colorscale": [
            [
             0,
             "#000011"
            ],
            [
             0.1111111111111111,
             "#000012"
            ],
            [
             0.2222222222222222,
             "#000013"
            ],
            [
             0.3333333333333333,
             "#000014"
            ],
            [
             0.4444444444444444,
             "#000015"
            ],
            [
             0.5555555555555556,
             "#000016"
            ],
            [
             0.6666666666666666,
             "#000017"
            ],
            [
             0.7777777777777778,
             "#000018"
            ],
            [
             0.8888888888888888,
             "#000019"
            ],
            [
             1,
             "#000020"
            ]
           ]
          },
          "colorscale": {
           "diverging": [
            [
             0,
             "#000021"
            ],
            [
             0.1,
             "#000022"
            ],
            [
             0.2,
             "#000023"
            ],
            [
             0.3,
             "#000024"
            ],
            [
             0.4,
             "#000025"
            ],
            [
             0.5,
             "#000026"
            ],
            [
             0.6,
             "#000027"
            ],
            [
             0.7,
             "#000028"
            ],
            [
             0.8,
             "#000029"
            ],
            [
             0.9,
             "#000030"
            ],
            [
             1,
             "#000031"
            ]
           ],
           "sequential": [
            [
             0,
             "#000011"
            ],
            [
             0.1111111111111111,
             "#000012"
            ],
            [
             0.2222222222222222,
             "#000013"
            ],
            [
             0.3333333333333333,
             "#000014"
            ],
            [
             0.4444444444444444,
             "#000015"
            ],
            [
             0.5555555555555556,
             "#000016"
            ],
            [
             0.6666666666666666,
             "#000017"
            ],
            [
             0.7777777777777778,
             "#000018"
            ],
            [
             0.8888888888888888,
             "#000019"
            ],
            [
             1,
             "#000020"
            ]
           ],
           "sequentialminus": [
            [
             0,
             "#000011"
            ],
            [
             0.1111111111111111,
             "#000012"
            ],
            [
             0.2222222222222222,
             "#000013"
            ],
            [
             0.3333333333333333,
             "#000014"
            ],
            [
             0.4444444444444444,
             "#000015"
            ],
            [
             0.5555555555555556,
             "#000016"
            ],
            [
             0.6666666666666666,
             "#000017"
            ],
            [
             0.7777777777777778,
             "#000018"
            ],
            [
             0.8888888888888888,
             "#000019"
            ],
            [
             1,
             "#000020"
            ]
           ]
          },
          "colorway": [
           "#000001",
           "#000002",
           "#000003",
           "#000004",
           "#000005",
           "#000006",
           "#000007",
           "#000008",
           "#000009",
           "#000010"
          ]
         }
        },
        "title": {
         "text": "Yearly Percentage for Different Age Ranges"
        },
        "xaxis": {
         "anchor": "y",
         "autorange": true,
         "domain": [
          0,
          1
         ],
         "range": [
          1979,
          2022
         ],
         "title": {
          "text": "Year"
         },
         "type": "linear"
        },
        "yaxis": {
         "anchor": "x",
         "autorange": true,
         "domain": [
          0,
          1
         ],
         "range": [
          54.512941176470584,
          100.25411764705882
         ],
         "title": {
          "text": "Percentage"
         },
         "type": "linear"
        }
       }
      },
      "image/png": "[encoded data removed]",
      "text/html": [
       "<div>                            <div id=\"c5a62d31-16d8-4b7e-bdaa-ffd79f314651\" class=\"plotly-graph-div\" style=\"height:525px; width:100%;\"></div>            <script type=\"text/javascript\">                require([\"plotly\"], function(Plotly) {                    window.PLOTLYENV=window.PLOTLYENV || {};                                    if (document.getElementById(\"c5a62d31-16d8-4b7e-bdaa-ffd79f314651\")) {                    Plotly.newPlot(                        \"c5a62d31-16d8-4b7e-bdaa-ffd79f314651\",                        [{\"hovertemplate\":\"Age Range=16-19\\u003cbr\\u003eYear=%{x}\\u003cbr\\u003ePercentage=%{y}\\u003cextra\\u003e\\u003c\\u002fextra\\u003e\",\"legendgroup\":\"16-19\",\"line\":{\"color\":\"rgb(228,26,28)\",\"dash\":\"solid\"},\"marker\":{\"symbol\":\"circle\"},\"mode\":\"lines\",\"name\":\"16-19\",\"orientation\":\"v\",\"showlegend\":true,\"x\":[1979,1980,1981,1982,1983,1984,1985,1986,1987,1988,1989,1990,1991,1992,1993,1994,1995,1996,1997,1998,1999,2000,2001,2002,2003,2004,2005,2006,2007,2008,2009,2010,2011,2012,2013,2014,2015,2016,2017,2018,2019,2020,2021,2022],\"xaxis\":\"x\",\"y\":[85.2,89.5,91.7,92.9,94.0,93.1,90.7,91.4,87.8,89.8,94.3,90.8,93.6,94.0,92.8,92.5,88.1,88.8,91.6,88.6,91.4,92.5,90.3,94.6,93.1,92.1,92.1,87.6,89.1,87.3,90.7,94.6,88.6,88.5,89.7,91.1,89.4,92.6,87.6,89.4,84.4,90.4,88.6,90.0],\"yaxis\":\"y\",\"type\":\"scatter\"},{\"hovertemplate\":\"Age Range=20-24\\u003cbr\\u003eYear=%{x}\\u003cbr\\u003ePercentage=%{y}\\u003cextra\\u003e\\u003c\\u002fextra\\u003e\",\"legendgroup\":\"20-24\",\"line\":{\"color\":\"rgb(55,126,184)\",\"dash\":\"solid\"},\"marker\":{\"symbol\":\"circle\"},\"mode\":\"lines\",\"name\":\"20-24\",\"orientation\":\"v\",\"showlegend\":true,\"x\":[1979,1980,1981,1982,1983,1984,1985,1986,1987,1988,1989,1990,1991,1992,1993,1994,1995,1996,1997,1998,1999,2000,2001,2002,2003,2004,2005,2006,2007,2008,2009,2010,2011,2012,2013,2014,2015,2016,2017,2018,2019,2020,2021,2022],\"xaxis\":\"x\",\"y\":[76.3,78.1,80.6,82.4,85.5,85.2,85.7,87.5,88.0,90.0,89.7,90.3,93.3,94.3,95.4,94.5,92.4,92.8,90.5,89.4,90.5,92.7,91.9,93.9,93.9,93.8,93.8,94.9,90.3,92.5,92.9,93.8,93.2,89.0,89.8,92.3,89.7,95.6,90.2,92.2,90.4,93.5,92.3,92.9],\"yaxis\":\"y\",\"type\":\"scatter\"},{\"hovertemplate\":\"Age Range=25-34\\u003cbr\\u003eYear=%{x}\\u003cbr\\u003ePercentage=%{y}\\u003cextra\\u003e\\u003c\\u002fextra\\u003e\",\"legendgroup\":\"25-34\",\"line\":{\"color\":\"rgb(77,175,74)\",\"dash\":\"solid\"},\"marker\":{\"symbol\":\"circle\"},\"mode\":\"lines\",\"name\":\"25-34\",\"orientation\":\"v\",\"showlegend\":true,\"x\":[1979,1980,1981,1982,1983,1984,1985,1986,1987,1988,1989,1990,1991,1992,1993,1994,1995,1996,1997,1998,1999,2000,2001,2002,2003,2004,2005,2006,2007,2008,2009,2010,2011,2012,2013,2014,2015,2016,2017,2018,2019,2020,2021,2022],\"xaxis\":\"x\",\"y\":[67.5,69.4,70.3,72.1,73.3,74.6,75.1,76.1,76.7,77.7,78.3,79.3,81.0,82.0,83.0,82.9,82.2,83.2,82.9,82.9,81.5,82.4,83.0,84.5,86.9,87.8,89.0,88.2,86.9,88.5,88.7,90.8,92.3,90.2,89.4,89.9,89.6,88.8,88.2,87.0,87.8,89.5,90.6,90.2],\"yaxis\":\"y\",\"type\":\"scatter\"},{\"hovertemplate\":\"Age Range=35-44\\u003cbr\\u003eYear=%{x}\\u003cbr\\u003ePercentage=%{y}\\u003cextra\\u003e\\u003c\\u002fextra\\u003e\",\"legendgroup\":\"35-44\",\"line\":{\"color\":\"rgb(152,78,163)\",\"dash\":\"solid\"},\"marker\":{\"symbol\":\"circle\"},\"mode\":\"lines\",\"name\":\"35-44\",\"orientation\":\"v\",\"showlegend\":true,\"x\":[1979,1980,1981,1982,1983,1984,1985,1986,1987,1988,1989,1990,1991,1992,1993,1994,1995,1996,1997,1998,1999,2000,2001,2002,2003,2004,2005,2006,2007,2008,2009,2010,2011,2012,2013,2014,2015,2016,2017,2018,2019,2020,2021,2022],\"xaxis\":\"x\",\"y\":[58.3,58.3,59.9,61.1,61.5,62.0,63.0,63.9,66.1,68.5,68.3,69.6,70.7,71.9,73.0,72.6,72.6,73.3,74.0,73.6,71.7,71.6,72.5,75.2,76.1,75.6,75.5,77.2,76.5,74.5,77.4,79.9,78.5,78.1,80.2,81.0,81.8,83.3,81.0,79.6,80.1,81.2,79.9,82.1],\"yaxis\":\"y\",\"type\":\"scatter\"},{\"hovertemplate\":\"Age Range=45-54\\u003cbr\\u003eYear=%{x}\\u003cbr\\u003ePercentage=%{y}\\u003cextra\\u003e\\u003c\\u002fextra\\u003e\",\"legendgroup\":\"45-54\",\"line\":{\"color\":\"rgb(255,127,0)\",\"dash\":\"solid\"},\"marker\":{\"symbol\":\"circle\"},\"mode\":\"lines\",\"name\":\"45-54\",\"orientation\":\"v\",\"showlegend\":true,\"x\":[1979,1980,1981,1982,1983,1984,1985,1986,1987,1988,1989,1990,1991,1992,1993,1994,1995,1996,1997,1998,1999,2000,2001,2002,2003,2004,2005,2006,2007,2008,2009,2010,2011,2012,2013,2014,2015,2016,2017,2018,2019,2020,2021,2022],\"xaxis\":\"x\",\"y\":[56.8,56.9,56.8,60.1,59.5,59.4,59.7,60.9,62.3,61.7,62.7,63.8,65.0,65.8,67.4,67.1,67.7,68.9,69.4,70.5,70.0,73.2,73.5,74.6,73.0,72.9,75.5,73.5,74.5,74.9,73.6,76.5,76.0,75.1,76.6,77.2,76.8,77.8,77.5,77.0,77.3,77.5,78.1,79.2],\"yaxis\":\"y\",\"type\":\"scatter\"},{\"hovertemplate\":\"Age Range=55-64\\u003cbr\\u003eYear=%{x}\\u003cbr\\u003ePercentage=%{y}\\u003cextra\\u003e\\u003c\\u002fextra\\u003e\",\"legendgroup\":\"55-64\",\"line\":{\"color\":\"rgb(255,255,51)\",\"dash\":\"solid\"},\"marker\":{\"symbol\":\"circle\"},\"mode\":\"lines\",\"name\":\"55-64\",\"orientation\":\"v\",\"showlegend\":true,\"x\":[1979,1980,1981,1982,1983,1984,1985,1986,1987,1988,1989,1990,1991,1992,1993,1994,1995,1996,1997,1998,1999,2000,2001,2002,2003,2004,2005,2006,2007,2008,2009,2010,2011,2012,2013,2014,2015,2016,2017,2018,2019,2020,2021,2022],\"xaxis\":\"x\",\"y\":[60.6,59.4,58.9,61.4,61.8,61.5,61.0,61.2,62.2,62.3,63.9,63.7,64.5,64.9,67.4,66.0,64.7,65.3,64.7,68.1,67.9,69.1,70.5,71.6,72.7,73.0,74.7,72.9,72.8,75.4,75.3,75.2,75.1,76.2,77.1,76.4,73.7,73.7,78.0,75.0,75.5,77.8,77.7,77.8],\"yaxis\":\"y\",\"type\":\"scatter\"},{\"hovertemplate\":\"Age Range=65\\u003c\\u003cbr\\u003eYear=%{x}\\u003cbr\\u003ePercentage=%{y}\\u003cextra\\u003e\\u003c\\u002fextra\\u003e\",\"legendgroup\":\"65\\u003c\",\"line\":{\"color\":\"rgb(166,86,40)\",\"dash\":\"solid\"},\"marker\":{\"symbol\":\"circle\"},\"mode\":\"lines\",\"name\":\"65\\u003c\",\"orientation\":\"v\",\"showlegend\":true,\"x\":[1979,1980,1981,1982,1983,1984,1985,1986,1987,1988,1989,1990,1991,1992,1993,1994,1995,1996,1997,1998,1999,2000,2001,2002,2003,2004,2005,2006,2007,2008,2009,2010,2011,2012,2013,2014,2015,2016,2017,2018,2019,2020,2021,2022],\"xaxis\":\"x\",\"y\":[77.6,76.4,71.1,70.3,68.8,66.8,65.9,71.5,68.7,70.9,74.3,74.4,68.3,77.9,74.3,76.2,80.0,70.0,77.0,72.6,78.7,75.1,69.0,73.8,71.1,74.6,76.4,77.5,77.8,74.8,76.1,75.7,80.9,77.6,73.7,78.6,73.8,75.5,77.0,77.2,76.5,80.4,76.8,73.1],\"yaxis\":\"y\",\"type\":\"scatter\"}],                        {\"template\":{\"data\":{\"candlestick\":[{\"decreasing\":{\"line\":{\"color\":\"#000033\"}},\"increasing\":{\"line\":{\"color\":\"#000032\"}},\"type\":\"candlestick\"}],\"contourcarpet\":[{\"colorscale\":[[0.0,\"#000011\"],[0.1111111111111111,\"#000012\"],[0.2222222222222222,\"#000013\"],[0.3333333333333333,\"#000014\"],[0.4444444444444444,\"#000015\"],[0.5555555555555556,\"#000016\"],[0.6666666666666666,\"#000017\"],[0.7777777777777778,\"#000018\"],[0.8888888888888888,\"#000019\"],[1.0,\"#000020\"]],\"type\":\"contourcarpet\"}],\"contour\":[{\"colorscale\":[[0.0,\"#000011\"],[0.1111111111111111,\"#000012\"],[0.2222222222222222,\"#000013\"],[0.3333333333333333,\"#000014\"],[0.4444444444444444,\"#000015\"],[0.5555555555555556,\"#000016\"],[0.6666666666666666,\"#000017\"],[0.7777777777777778,\"#000018\"],[0.8888888888888888,\"#000019\"],[1.0,\"#000020\"]],\"type\":\"contour\"}],\"heatmap\":[{\"colorscale\":[[0.0,\"#000011\"],[0.1111111111111111,\"#000012\"],[0.2222222222222222,\"#000013\"],[0.3333333333333333,\"#000014\"],[0.4444444444444444,\"#000015\"],[0.5555555555555556,\"#000016\"],[0.6666666666666666,\"#000017\"],[0.7777777777777778,\"#000018\"],[0.8888888888888888,\"#000019\"],[1.0,\"#000020\"]],\"type\":\"heatmap\"}],\"histogram2d\":[{\"colorscale\":[[0.0,\"#000011\"],[0.1111111111111111,\"#000012\"],[0.2222222222222222,\"#000013\"],[0.3333333333333333,\"#000014\"],[0.4444444444444444,\"#000015\"],[0.5555555555555556,\"#000016\"],[0.6666666666666666,\"#000017\"],[0.7777777777777778,\"#000018\"],[0.8888888888888888,\"#000019\"],[1.0,\"#000020\"]],\"type\":\"histogram2d\"}],\"icicle\":[{\"textfont\":{\"color\":\"white\"},\"type\":\"icicle\"}],\"sankey\":[{\"textfont\":{\"color\":\"#000036\"},\"type\":\"sankey\"}],\"scatter\":[{\"marker\":{\"line\":{\"width\":0}},\"type\":\"scatter\"}],\"table\":[{\"cells\":{\"fill\":{\"color\":\"#000038\"},\"font\":{\"color\":\"#000037\"},\"line\":{\"color\":\"#000039\"}},\"header\":{\"fill\":{\"color\":\"#000040\"},\"font\":{\"color\":\"#000036\"},\"line\":{\"color\":\"#000039\"}},\"type\":\"table\"}],\"waterfall\":[{\"connector\":{\"line\":{\"color\":\"#000036\",\"width\":2}},\"decreasing\":{\"marker\":{\"color\":\"#000033\"}},\"increasing\":{\"marker\":{\"color\":\"#000032\"}},\"totals\":{\"marker\":{\"color\":\"#000034\"}},\"type\":\"waterfall\"}]},\"layout\":{\"coloraxis\":{\"colorscale\":[[0.0,\"#000011\"],[0.1111111111111111,\"#000012\"],[0.2222222222222222,\"#000013\"],[0.3333333333333333,\"#000014\"],[0.4444444444444444,\"#000015\"],[0.5555555555555556,\"#000016\"],[0.6666666666666666,\"#000017\"],[0.7777777777777778,\"#000018\"],[0.8888888888888888,\"#000019\"],[1.0,\"#000020\"]]},\"colorscale\":{\"diverging\":[[0.0,\"#000021\"],[0.1,\"#000022\"],[0.2,\"#000023\"],[0.3,\"#000024\"],[0.4,\"#000025\"],[0.5,\"#000026\"],[0.6,\"#000027\"],[0.7,\"#000028\"],[0.8,\"#000029\"],[0.9,\"#000030\"],[1.0,\"#000031\"]],\"sequential\":[[0.0,\"#000011\"],[0.1111111111111111,\"#000012\"],[0.2222222222222222,\"#000013\"],[0.3333333333333333,\"#000014\"],[0.4444444444444444,\"#000015\"],[0.5555555555555556,\"#000016\"],[0.6666666666666666,\"#000017\"],[0.7777777777777778,\"#000018\"],[0.8888888888888888,\"#000019\"],[1.0,\"#000020\"]],\"sequentialminus\":[[0.0,\"#000011\"],[0.1111111111111111,\"#000012\"],[0.2222222222222222,\"#000013\"],[0.3333333333333333,\"#000014\"],[0.4444444444444444,\"#000015\"],[0.5555555555555556,\"#000016\"],[0.6666666666666666,\"#000017\"],[0.7777777777777778,\"#000018\"],[0.8888888888888888,\"#000019\"],[1.0,\"#000020\"]]},\"colorway\":[\"#000001\",\"#000002\",\"#000003\",\"#000004\",\"#000005\",\"#000006\",\"#000007\",\"#000008\",\"#000009\",\"#000010\"]}},\"xaxis\":{\"anchor\":\"y\",\"domain\":[0.0,1.0],\"title\":{\"text\":\"Year\"}},\"yaxis\":{\"anchor\":\"x\",\"domain\":[0.0,1.0],\"title\":{\"text\":\"Percentage\"}},\"legend\":{\"title\":{\"text\":\"Age Range\"},\"tracegroupgap\":0},\"title\":{\"text\":\"Yearly Percentage for Different Age Ranges\"},\"shapes\":[{\"line\":{\"dash\":\"dash\"},\"type\":\"line\",\"x0\":0,\"x1\":1,\"xref\":\"x domain\",\"y0\":100,\"y1\":100,\"yref\":\"y\"}]},                        {\"responsive\": true}                    ).then(function(){\n",
       "                            \n",
       "var gd = document.getElementById('c5a62d31-16d8-4b7e-bdaa-ffd79f314651');\n",
       "var x = new MutationObserver(function (mutations, observer) {{\n",
       "        var display = window.getComputedStyle(gd).display;\n",
       "        if (!display || display === 'none') {{\n",
       "            console.log([gd, 'removed!']);\n",
       "            Plotly.purge(gd);\n",
       "            observer.disconnect();\n",
       "        }}\n",
       "}});\n",
       "\n",
       "// Listen for the removal of the full notebook cells\n",
       "var notebookContainer = gd.closest('#notebook-container');\n",
       "if (notebookContainer) {{\n",
       "    x.observe(notebookContainer, {childList: true});\n",
       "}}\n",
       "\n",
       "// Listen for the clearing of the current output cell\n",
       "var outputEl = gd.closest('.output');\n",
       "if (outputEl) {{\n",
       "    x.observe(outputEl, {childList: true});\n",
       "}}\n",
       "\n",
       "                        })                };                });            </script>        </div>"
      ]
     },
     "metadata": {},
     "output_type": "display_data"
    }
   ],
   "source": [
    "fig1 = px.line(df_melted, x='Year', y='Percentage', color='Age Range',\n",
    "              color_discrete_map=dict(zip(df_melted['Age Range'].unique(), colors)),\n",
    "              title='Yearly Percentage for Different Age Ranges')\n",
    "fig1.update_xaxes(title_text='Year')\n",
    "fig1.update_yaxes(title_text='Percentage')\n",
    "fig1.add_hline(y=100, line_dash=\"dash\")\n",
    "\n",
    "fig1.show()"
   ]
  },
  {
   "cell_type": "code",
   "execution_count": 104,
   "id": "adb2d2ac-6b3e-4a2e-bf6e-328c7b4bc47b",
   "metadata": {},
   "outputs": [
    {
     "data": {
      "text/plain": [
       "<Figure size 1000x600 with 0 Axes>"
      ]
     },
     "execution_count": 104,
     "metadata": {},
     "output_type": "execute_result"
    },
    {
     "data": {
      "text/plain": [
       "<Figure size 1000x600 with 0 Axes>"
      ]
     },
     "metadata": {},
     "output_type": "display_data"
    }
   ],
   "source": [
    "plt.figure(figsize=(10, 6))"
   ]
  },
  {
   "cell_type": "code",
   "execution_count": 105,
   "id": "d8c5181d-5d26-4262-99dc-a03fc709833e",
   "metadata": {},
   "outputs": [],
   "source": [
    "df2 = pd.read_excel('Map.xlsx')"
   ]
  },
  {
   "cell_type": "code",
   "execution_count": 106,
   "id": "6c6dfa3c-4641-49b3-963a-1ba76229dce4",
   "metadata": {},
   "outputs": [
    {
     "data": {
      "text/plain": [
       "Index(['States', 'Total#workers\\n', 'T_Med_Week_Earnings',\n",
       "       'T_Stanard_Error_median', 'Female#workers\\n', 'F_Med_Week_Earnings',\n",
       "       'F_Stanard_Error_median', 'Male#workers\\n', 'M_Med_Week_Earnings',\n",
       "       'M_Stanard_Error_medianmedian', 'F_Eanings_Percentage_M'],\n",
       "      dtype='object')"
      ]
     },
     "execution_count": 106,
     "metadata": {},
     "output_type": "execute_result"
    }
   ],
   "source": [
    "df2.columns"
   ]
  },
  {
   "cell_type": "code",
   "execution_count": 107,
   "id": "884e25e7-587e-4ac0-bb5f-e24ea5239e76",
   "metadata": {},
   "outputs": [],
   "source": [
    "us_state_to_abbrev = {\n",
    "    \"Alabama\": \"AL\",\n",
    "    \"Alaska\": \"AK\",\n",
    "    \"Arizona\": \"AZ\",\n",
    "    \"Arkansas\": \"AR\",\n",
    "    \"California\": \"CA\",\n",
    "    \"Colorado\": \"CO\",\n",
    "    \"Connecticut\": \"CT\",\n",
    "    \"Delaware\": \"DE\",\n",
    "    \"Florida\": \"FL\",\n",
    "    \"Georgia\": \"GA\",\n",
    "    \"Hawaii\": \"HI\",\n",
    "    \"Idaho\": \"ID\",\n",
    "    \"Illinois\": \"IL\",\n",
    "    \"Indiana\": \"IN\",\n",
    "    \"Iowa\": \"IA\",\n",
    "    \"Kansas\": \"KS\",\n",
    "    \"Kentucky\": \"KY\",\n",
    "    \"Louisiana\": \"LA\",\n",
    "    \"Maine\": \"ME\",\n",
    "    \"Maryland\": \"MD\",\n",
    "    \"Massachusetts\": \"MA\",\n",
    "    \"Michigan\": \"MI\",\n",
    "    \"Minnesota\": \"MN\",\n",
    "    \"Mississippi\": \"MS\",\n",
    "    \"Missouri\": \"MO\",\n",
    "    \"Montana\": \"MT\",\n",
    "    \"Nebraska\": \"NE\",\n",
    "    \"Nevada\": \"NV\",\n",
    "    \"New Hampshire\": \"NH\",\n",
    "    \"New Jersey\": \"NJ\",\n",
    "    \"New Mexico\": \"NM\",\n",
    "    \"New York\": \"NY\",\n",
    "    \"North Carolina\": \"NC\",\n",
    "    \"North Dakota\": \"ND\",\n",
    "    \"Ohio\": \"OH\",\n",
    "    \"Oklahoma\": \"OK\",\n",
    "    \"Oregon\": \"OR\",\n",
    "    \"Pennsylvania\": \"PA\",\n",
    "    \"Rhode Island\": \"RI\",\n",
    "    \"South Carolina\": \"SC\",\n",
    "    \"South Dakota\": \"SD\",\n",
    "    \"Tennessee\": \"TN\",\n",
    "    \"Texas\": \"TX\",\n",
    "    \"Utah\": \"UT\",\n",
    "    \"Vermont\": \"VT\",\n",
    "    \"Virginia\": \"VA\",\n",
    "    \"Washington\": \"WA\",\n",
    "    \"West Virginia\": \"WV\",\n",
    "    \"Wisconsin\": \"WI\",\n",
    "    \"Wyoming\": \"WY\",\n",
    "    \"District of Columbia\": \"DC\",\n",
    "    \"American Samoa\": \"AS\",\n",
    "    \"Guam\": \"GU\",\n",
    "    \"Northern Mariana Islands\": \"MP\",\n",
    "    \"Puerto Rico\": \"PR\",\n",
    "    \"United States Minor Outlying Islands\": \"UM\",\n",
    "    \"U.S. Virgin Islands\": \"VI\",\n",
    "}"
   ]
  },
  {
   "cell_type": "code",
   "execution_count": 108,
   "id": "547877ec-c109-442f-9976-9d3d04dc5fd9",
   "metadata": {
    "scrolled": true
   },
   "outputs": [
    {
     "data": {
      "text/html": [
       "<div>\n",
       "<style scoped>\n",
       "    .dataframe tbody tr th:only-of-type {\n",
       "        vertical-align: middle;\n",
       "    }\n",
       "\n",
       "    .dataframe tbody tr th {\n",
       "        vertical-align: top;\n",
       "    }\n",
       "\n",
       "    .dataframe thead th {\n",
       "        text-align: right;\n",
       "    }\n",
       "</style>\n",
       "<table border=\"1\" class=\"dataframe\">\n",
       "  <thead>\n",
       "    <tr style=\"text-align: right;\">\n",
       "      <th></th>\n",
       "      <th>States</th>\n",
       "      <th>Female Median Weekly Earnings</th>\n",
       "      <th>Male Median Weekly Earnings</th>\n",
       "      <th>StatesAbb</th>\n",
       "      <th>Proportion</th>\n",
       "    </tr>\n",
       "  </thead>\n",
       "  <tbody>\n",
       "    <tr>\n",
       "      <th>0</th>\n",
       "      <td>Alabama</td>\n",
       "      <td>837.0</td>\n",
       "      <td>1049.0</td>\n",
       "      <td>AL</td>\n",
       "      <td>0.797903</td>\n",
       "    </tr>\n",
       "    <tr>\n",
       "      <th>1</th>\n",
       "      <td>Alaska</td>\n",
       "      <td>1007.0</td>\n",
       "      <td>1217.0</td>\n",
       "      <td>AK</td>\n",
       "      <td>0.827445</td>\n",
       "    </tr>\n",
       "    <tr>\n",
       "      <th>2</th>\n",
       "      <td>Arizona</td>\n",
       "      <td>938.0</td>\n",
       "      <td>1173.0</td>\n",
       "      <td>AZ</td>\n",
       "      <td>0.799659</td>\n",
       "    </tr>\n",
       "    <tr>\n",
       "      <th>3</th>\n",
       "      <td>Arkansas</td>\n",
       "      <td>822.0</td>\n",
       "      <td>954.0</td>\n",
       "      <td>AR</td>\n",
       "      <td>0.861635</td>\n",
       "    </tr>\n",
       "    <tr>\n",
       "      <th>4</th>\n",
       "      <td>California</td>\n",
       "      <td>1062.0</td>\n",
       "      <td>1223.0</td>\n",
       "      <td>CA</td>\n",
       "      <td>0.868357</td>\n",
       "    </tr>\n",
       "    <tr>\n",
       "      <th>5</th>\n",
       "      <td>Colorado</td>\n",
       "      <td>1142.0</td>\n",
       "      <td>1312.0</td>\n",
       "      <td>CO</td>\n",
       "      <td>0.870427</td>\n",
       "    </tr>\n",
       "    <tr>\n",
       "      <th>6</th>\n",
       "      <td>Connecticut</td>\n",
       "      <td>1130.0</td>\n",
       "      <td>1399.0</td>\n",
       "      <td>CT</td>\n",
       "      <td>0.807720</td>\n",
       "    </tr>\n",
       "    <tr>\n",
       "      <th>7</th>\n",
       "      <td>Delaware</td>\n",
       "      <td>972.0</td>\n",
       "      <td>1018.0</td>\n",
       "      <td>DE</td>\n",
       "      <td>0.954813</td>\n",
       "    </tr>\n",
       "    <tr>\n",
       "      <th>8</th>\n",
       "      <td>District of Columbia</td>\n",
       "      <td>1626.0</td>\n",
       "      <td>1876.0</td>\n",
       "      <td>DC</td>\n",
       "      <td>0.866738</td>\n",
       "    </tr>\n",
       "    <tr>\n",
       "      <th>9</th>\n",
       "      <td>Florida</td>\n",
       "      <td>861.0</td>\n",
       "      <td>1022.0</td>\n",
       "      <td>FL</td>\n",
       "      <td>0.842466</td>\n",
       "    </tr>\n",
       "    <tr>\n",
       "      <th>10</th>\n",
       "      <td>Georgia</td>\n",
       "      <td>891.0</td>\n",
       "      <td>1087.0</td>\n",
       "      <td>GA</td>\n",
       "      <td>0.819687</td>\n",
       "    </tr>\n",
       "    <tr>\n",
       "      <th>11</th>\n",
       "      <td>Hawaii</td>\n",
       "      <td>963.0</td>\n",
       "      <td>1136.0</td>\n",
       "      <td>HI</td>\n",
       "      <td>0.847711</td>\n",
       "    </tr>\n",
       "    <tr>\n",
       "      <th>12</th>\n",
       "      <td>Idaho</td>\n",
       "      <td>851.0</td>\n",
       "      <td>1085.0</td>\n",
       "      <td>ID</td>\n",
       "      <td>0.784332</td>\n",
       "    </tr>\n",
       "    <tr>\n",
       "      <th>13</th>\n",
       "      <td>Illinois</td>\n",
       "      <td>1014.0</td>\n",
       "      <td>1262.0</td>\n",
       "      <td>IL</td>\n",
       "      <td>0.803487</td>\n",
       "    </tr>\n",
       "    <tr>\n",
       "      <th>14</th>\n",
       "      <td>Indiana</td>\n",
       "      <td>861.0</td>\n",
       "      <td>1109.0</td>\n",
       "      <td>IN</td>\n",
       "      <td>0.776375</td>\n",
       "    </tr>\n",
       "    <tr>\n",
       "      <th>15</th>\n",
       "      <td>Iowa</td>\n",
       "      <td>883.0</td>\n",
       "      <td>1066.0</td>\n",
       "      <td>IA</td>\n",
       "      <td>0.828330</td>\n",
       "    </tr>\n",
       "    <tr>\n",
       "      <th>16</th>\n",
       "      <td>Kansas</td>\n",
       "      <td>920.0</td>\n",
       "      <td>1079.0</td>\n",
       "      <td>KS</td>\n",
       "      <td>0.852641</td>\n",
       "    </tr>\n",
       "    <tr>\n",
       "      <th>17</th>\n",
       "      <td>Kentucky</td>\n",
       "      <td>860.0</td>\n",
       "      <td>1018.0</td>\n",
       "      <td>KY</td>\n",
       "      <td>0.844794</td>\n",
       "    </tr>\n",
       "    <tr>\n",
       "      <th>18</th>\n",
       "      <td>Louisiana</td>\n",
       "      <td>822.0</td>\n",
       "      <td>1064.0</td>\n",
       "      <td>LA</td>\n",
       "      <td>0.772556</td>\n",
       "    </tr>\n",
       "    <tr>\n",
       "      <th>19</th>\n",
       "      <td>Maine</td>\n",
       "      <td>936.0</td>\n",
       "      <td>1093.0</td>\n",
       "      <td>ME</td>\n",
       "      <td>0.856359</td>\n",
       "    </tr>\n",
       "    <tr>\n",
       "      <th>20</th>\n",
       "      <td>Maryland</td>\n",
       "      <td>1165.0</td>\n",
       "      <td>1345.0</td>\n",
       "      <td>MD</td>\n",
       "      <td>0.866171</td>\n",
       "    </tr>\n",
       "    <tr>\n",
       "      <th>21</th>\n",
       "      <td>Massachusetts</td>\n",
       "      <td>1247.0</td>\n",
       "      <td>1454.0</td>\n",
       "      <td>MA</td>\n",
       "      <td>0.857634</td>\n",
       "    </tr>\n",
       "    <tr>\n",
       "      <th>22</th>\n",
       "      <td>Michigan</td>\n",
       "      <td>987.0</td>\n",
       "      <td>1197.0</td>\n",
       "      <td>MI</td>\n",
       "      <td>0.824561</td>\n",
       "    </tr>\n",
       "    <tr>\n",
       "      <th>23</th>\n",
       "      <td>Minnesota</td>\n",
       "      <td>1101.0</td>\n",
       "      <td>1210.0</td>\n",
       "      <td>MN</td>\n",
       "      <td>0.909917</td>\n",
       "    </tr>\n",
       "    <tr>\n",
       "      <th>24</th>\n",
       "      <td>Mississippi</td>\n",
       "      <td>751.0</td>\n",
       "      <td>906.0</td>\n",
       "      <td>MS</td>\n",
       "      <td>0.828918</td>\n",
       "    </tr>\n",
       "    <tr>\n",
       "      <th>25</th>\n",
       "      <td>Missouri</td>\n",
       "      <td>882.0</td>\n",
       "      <td>1110.0</td>\n",
       "      <td>MO</td>\n",
       "      <td>0.794595</td>\n",
       "    </tr>\n",
       "    <tr>\n",
       "      <th>26</th>\n",
       "      <td>Montana</td>\n",
       "      <td>884.0</td>\n",
       "      <td>1082.0</td>\n",
       "      <td>MT</td>\n",
       "      <td>0.817006</td>\n",
       "    </tr>\n",
       "    <tr>\n",
       "      <th>27</th>\n",
       "      <td>Nebraska</td>\n",
       "      <td>937.0</td>\n",
       "      <td>1068.0</td>\n",
       "      <td>NE</td>\n",
       "      <td>0.877341</td>\n",
       "    </tr>\n",
       "    <tr>\n",
       "      <th>28</th>\n",
       "      <td>Nevada</td>\n",
       "      <td>811.0</td>\n",
       "      <td>1013.0</td>\n",
       "      <td>NV</td>\n",
       "      <td>0.800592</td>\n",
       "    </tr>\n",
       "    <tr>\n",
       "      <th>29</th>\n",
       "      <td>New Hampshire</td>\n",
       "      <td>1019.0</td>\n",
       "      <td>1351.0</td>\n",
       "      <td>NH</td>\n",
       "      <td>0.754256</td>\n",
       "    </tr>\n",
       "    <tr>\n",
       "      <th>30</th>\n",
       "      <td>New Jersey</td>\n",
       "      <td>1072.0</td>\n",
       "      <td>1284.0</td>\n",
       "      <td>NJ</td>\n",
       "      <td>0.834891</td>\n",
       "    </tr>\n",
       "    <tr>\n",
       "      <th>31</th>\n",
       "      <td>New Mexico</td>\n",
       "      <td>855.0</td>\n",
       "      <td>1023.0</td>\n",
       "      <td>NM</td>\n",
       "      <td>0.835777</td>\n",
       "    </tr>\n",
       "    <tr>\n",
       "      <th>32</th>\n",
       "      <td>New York</td>\n",
       "      <td>1072.0</td>\n",
       "      <td>1239.0</td>\n",
       "      <td>NY</td>\n",
       "      <td>0.865214</td>\n",
       "    </tr>\n",
       "    <tr>\n",
       "      <th>33</th>\n",
       "      <td>North Carolina</td>\n",
       "      <td>902.0</td>\n",
       "      <td>1053.0</td>\n",
       "      <td>NC</td>\n",
       "      <td>0.856600</td>\n",
       "    </tr>\n",
       "    <tr>\n",
       "      <th>34</th>\n",
       "      <td>North Dakota</td>\n",
       "      <td>900.0</td>\n",
       "      <td>1140.0</td>\n",
       "      <td>ND</td>\n",
       "      <td>0.789474</td>\n",
       "    </tr>\n",
       "    <tr>\n",
       "      <th>35</th>\n",
       "      <td>Ohio</td>\n",
       "      <td>902.0</td>\n",
       "      <td>1103.0</td>\n",
       "      <td>OH</td>\n",
       "      <td>0.817770</td>\n",
       "    </tr>\n",
       "    <tr>\n",
       "      <th>36</th>\n",
       "      <td>Oklahoma</td>\n",
       "      <td>769.0</td>\n",
       "      <td>952.0</td>\n",
       "      <td>OK</td>\n",
       "      <td>0.807773</td>\n",
       "    </tr>\n",
       "    <tr>\n",
       "      <th>37</th>\n",
       "      <td>Oregon</td>\n",
       "      <td>1074.0</td>\n",
       "      <td>1204.0</td>\n",
       "      <td>OR</td>\n",
       "      <td>0.892027</td>\n",
       "    </tr>\n",
       "    <tr>\n",
       "      <th>38</th>\n",
       "      <td>Pennsylvania</td>\n",
       "      <td>981.0</td>\n",
       "      <td>1195.0</td>\n",
       "      <td>PA</td>\n",
       "      <td>0.820921</td>\n",
       "    </tr>\n",
       "    <tr>\n",
       "      <th>39</th>\n",
       "      <td>Rhode Island</td>\n",
       "      <td>1138.0</td>\n",
       "      <td>1142.0</td>\n",
       "      <td>RI</td>\n",
       "      <td>0.996497</td>\n",
       "    </tr>\n",
       "    <tr>\n",
       "      <th>40</th>\n",
       "      <td>South Carolina</td>\n",
       "      <td>841.0</td>\n",
       "      <td>1016.0</td>\n",
       "      <td>SC</td>\n",
       "      <td>0.827756</td>\n",
       "    </tr>\n",
       "    <tr>\n",
       "      <th>41</th>\n",
       "      <td>South Dakota</td>\n",
       "      <td>886.0</td>\n",
       "      <td>1076.0</td>\n",
       "      <td>SD</td>\n",
       "      <td>0.823420</td>\n",
       "    </tr>\n",
       "    <tr>\n",
       "      <th>42</th>\n",
       "      <td>Tennessee</td>\n",
       "      <td>859.0</td>\n",
       "      <td>1047.0</td>\n",
       "      <td>TN</td>\n",
       "      <td>0.820439</td>\n",
       "    </tr>\n",
       "    <tr>\n",
       "      <th>43</th>\n",
       "      <td>Texas</td>\n",
       "      <td>916.0</td>\n",
       "      <td>1103.0</td>\n",
       "      <td>TX</td>\n",
       "      <td>0.830462</td>\n",
       "    </tr>\n",
       "    <tr>\n",
       "      <th>44</th>\n",
       "      <td>Utah</td>\n",
       "      <td>884.0</td>\n",
       "      <td>1210.0</td>\n",
       "      <td>UT</td>\n",
       "      <td>0.730579</td>\n",
       "    </tr>\n",
       "    <tr>\n",
       "      <th>45</th>\n",
       "      <td>Vermont</td>\n",
       "      <td>1007.0</td>\n",
       "      <td>1214.0</td>\n",
       "      <td>VT</td>\n",
       "      <td>0.829489</td>\n",
       "    </tr>\n",
       "    <tr>\n",
       "      <th>46</th>\n",
       "      <td>Virginia</td>\n",
       "      <td>1054.0</td>\n",
       "      <td>1324.0</td>\n",
       "      <td>VA</td>\n",
       "      <td>0.796073</td>\n",
       "    </tr>\n",
       "    <tr>\n",
       "      <th>47</th>\n",
       "      <td>Washington</td>\n",
       "      <td>1097.0</td>\n",
       "      <td>1279.0</td>\n",
       "      <td>WA</td>\n",
       "      <td>0.857701</td>\n",
       "    </tr>\n",
       "    <tr>\n",
       "      <th>48</th>\n",
       "      <td>West Virginia</td>\n",
       "      <td>828.0</td>\n",
       "      <td>1065.0</td>\n",
       "      <td>WV</td>\n",
       "      <td>0.777465</td>\n",
       "    </tr>\n",
       "    <tr>\n",
       "      <th>49</th>\n",
       "      <td>Wisconsin</td>\n",
       "      <td>940.0</td>\n",
       "      <td>1169.0</td>\n",
       "      <td>WI</td>\n",
       "      <td>0.804106</td>\n",
       "    </tr>\n",
       "    <tr>\n",
       "      <th>50</th>\n",
       "      <td>Wyoming</td>\n",
       "      <td>869.0</td>\n",
       "      <td>1150.0</td>\n",
       "      <td>WY</td>\n",
       "      <td>0.755652</td>\n",
       "    </tr>\n",
       "  </tbody>\n",
       "</table>\n",
       "</div>"
      ],
      "text/plain": [
       "                  States  Female Median Weekly Earnings  \\\n",
       "0                Alabama                          837.0   \n",
       "1                 Alaska                         1007.0   \n",
       "2                Arizona                          938.0   \n",
       "3               Arkansas                          822.0   \n",
       "4             California                         1062.0   \n",
       "5               Colorado                         1142.0   \n",
       "6            Connecticut                         1130.0   \n",
       "7               Delaware                          972.0   \n",
       "8   District of Columbia                         1626.0   \n",
       "9                Florida                          861.0   \n",
       "10               Georgia                          891.0   \n",
       "11                Hawaii                          963.0   \n",
       "12                 Idaho                          851.0   \n",
       "13              Illinois                         1014.0   \n",
       "14               Indiana                          861.0   \n",
       "15                  Iowa                          883.0   \n",
       "16                Kansas                          920.0   \n",
       "17              Kentucky                          860.0   \n",
       "18             Louisiana                          822.0   \n",
       "19                 Maine                          936.0   \n",
       "20              Maryland                         1165.0   \n",
       "21         Massachusetts                         1247.0   \n",
       "22              Michigan                          987.0   \n",
       "23             Minnesota                         1101.0   \n",
       "24           Mississippi                          751.0   \n",
       "25              Missouri                          882.0   \n",
       "26               Montana                          884.0   \n",
       "27              Nebraska                          937.0   \n",
       "28                Nevada                          811.0   \n",
       "29         New Hampshire                         1019.0   \n",
       "30            New Jersey                         1072.0   \n",
       "31            New Mexico                          855.0   \n",
       "32              New York                         1072.0   \n",
       "33        North Carolina                          902.0   \n",
       "34          North Dakota                          900.0   \n",
       "35                  Ohio                          902.0   \n",
       "36              Oklahoma                          769.0   \n",
       "37                Oregon                         1074.0   \n",
       "38          Pennsylvania                          981.0   \n",
       "39          Rhode Island                         1138.0   \n",
       "40        South Carolina                          841.0   \n",
       "41          South Dakota                          886.0   \n",
       "42             Tennessee                          859.0   \n",
       "43                 Texas                          916.0   \n",
       "44                  Utah                          884.0   \n",
       "45               Vermont                         1007.0   \n",
       "46              Virginia                         1054.0   \n",
       "47            Washington                         1097.0   \n",
       "48         West Virginia                          828.0   \n",
       "49             Wisconsin                          940.0   \n",
       "50               Wyoming                          869.0   \n",
       "\n",
       "    Male Median Weekly Earnings StatesAbb  Proportion  \n",
       "0                        1049.0        AL    0.797903  \n",
       "1                        1217.0        AK    0.827445  \n",
       "2                        1173.0        AZ    0.799659  \n",
       "3                         954.0        AR    0.861635  \n",
       "4                        1223.0        CA    0.868357  \n",
       "5                        1312.0        CO    0.870427  \n",
       "6                        1399.0        CT    0.807720  \n",
       "7                        1018.0        DE    0.954813  \n",
       "8                        1876.0        DC    0.866738  \n",
       "9                        1022.0        FL    0.842466  \n",
       "10                       1087.0        GA    0.819687  \n",
       "11                       1136.0        HI    0.847711  \n",
       "12                       1085.0        ID    0.784332  \n",
       "13                       1262.0        IL    0.803487  \n",
       "14                       1109.0        IN    0.776375  \n",
       "15                       1066.0        IA    0.828330  \n",
       "16                       1079.0        KS    0.852641  \n",
       "17                       1018.0        KY    0.844794  \n",
       "18                       1064.0        LA    0.772556  \n",
       "19                       1093.0        ME    0.856359  \n",
       "20                       1345.0        MD    0.866171  \n",
       "21                       1454.0        MA    0.857634  \n",
       "22                       1197.0        MI    0.824561  \n",
       "23                       1210.0        MN    0.909917  \n",
       "24                        906.0        MS    0.828918  \n",
       "25                       1110.0        MO    0.794595  \n",
       "26                       1082.0        MT    0.817006  \n",
       "27                       1068.0        NE    0.877341  \n",
       "28                       1013.0        NV    0.800592  \n",
       "29                       1351.0        NH    0.754256  \n",
       "30                       1284.0        NJ    0.834891  \n",
       "31                       1023.0        NM    0.835777  \n",
       "32                       1239.0        NY    0.865214  \n",
       "33                       1053.0        NC    0.856600  \n",
       "34                       1140.0        ND    0.789474  \n",
       "35                       1103.0        OH    0.817770  \n",
       "36                        952.0        OK    0.807773  \n",
       "37                       1204.0        OR    0.892027  \n",
       "38                       1195.0        PA    0.820921  \n",
       "39                       1142.0        RI    0.996497  \n",
       "40                       1016.0        SC    0.827756  \n",
       "41                       1076.0        SD    0.823420  \n",
       "42                       1047.0        TN    0.820439  \n",
       "43                       1103.0        TX    0.830462  \n",
       "44                       1210.0        UT    0.730579  \n",
       "45                       1214.0        VT    0.829489  \n",
       "46                       1324.0        VA    0.796073  \n",
       "47                       1279.0        WA    0.857701  \n",
       "48                       1065.0        WV    0.777465  \n",
       "49                       1169.0        WI    0.804106  \n",
       "50                       1150.0        WY    0.755652  "
      ]
     },
     "execution_count": 108,
     "metadata": {},
     "output_type": "execute_result"
    }
   ],
   "source": [
    "grouped_df2 = df2.groupby('States')[['F_Med_Week_Earnings', 'M_Med_Week_Earnings']].mean()\n",
    "grouped_df2 = grouped_df2.reset_index().rename(columns={'F_Med_Week_Earnings': 'Female Median Weekly Earnings', \n",
    "                                                        'M_Med_Week_Earnings': 'Male Median Weekly Earnings'})\n",
    "grouped_df2[\"StatesAbb\"] = grouped_df2[\"States\"].map(us_state_to_abbrev)\n",
    "grouped_df2[\"Proportion\"]=grouped_df2[\"Female Median Weekly Earnings\"]/grouped_df2[\"Male Median Weekly Earnings\"]\n",
    "grouped_df2\n"
   ]
  },
  {
   "cell_type": "code",
   "execution_count": 109,
   "id": "5885c724-f7f4-4f27-8f3d-99ce549c1cad",
   "metadata": {},
   "outputs": [
    {
     "data": {
      "application/vnd.plotly.v1+json": {
       "config": {
        "plotlyServerURL": "https://plot.ly"
       },
       "data": [
        {
         "coloraxis": "coloraxis",
         "geo": "geo",
         "hovertemplate": "locations=%{location}<br>color=%{z}<extra></extra>",
         "locationmode": "USA-states",
         "locations": [
          "AL",
          "AK",
          "AZ",
          "AR",
          "CA",
          "CO",
          "CT",
          "DE",
          "DC",
          "FL",
          "GA",
          "HI",
          "ID",
          "IL",
          "IN",
          "IA",
          "KS",
          "KY",
          "LA",
          "ME",
          "MD",
          "MA",
          "MI",
          "MN",
          "MS",
          "MO",
          "MT",
          "NE",
          "NV",
          "NH",
          "NJ",
          "NM",
          "NY",
          "NC",
          "ND",
          "OH",
          "OK",
          "OR",
          "PA",
          "RI",
          "SC",
          "SD",
          "TN",
          "TX",
          "UT",
          "VT",
          "VA",
          "WA",
          "WV",
          "WI",
          "WY"
         ],
         "name": "",
         "type": "choropleth",
         "z": [
          0.797902764537655,
          0.8274445357436319,
          0.7996589940323956,
          0.8616352201257862,
          0.8683565004088307,
          0.8704268292682927,
          0.8077197998570408,
          0.9548133595284872,
          0.8667377398720683,
          0.8424657534246576,
          0.8196872125114996,
          0.8477112676056338,
          0.784331797235023,
          0.803486529318542,
          0.7763751127141569,
          0.8283302063789869,
          0.8526413345690455,
          0.8447937131630648,
          0.7725563909774437,
          0.8563586459286368,
          0.8661710037174721,
          0.8576341127922971,
          0.8245614035087719,
          0.9099173553719008,
          0.8289183222958058,
          0.7945945945945946,
          0.8170055452865065,
          0.8773408239700374,
          0.8005923000987167,
          0.7542561065877128,
          0.8348909657320872,
          0.8357771260997068,
          0.8652138821630347,
          0.8566001899335233,
          0.7894736842105263,
          0.8177697189483227,
          0.8077731092436975,
          0.8920265780730897,
          0.8209205020920503,
          0.9964973730297724,
          0.827755905511811,
          0.8234200743494424,
          0.8204393505253104,
          0.8304623753399819,
          0.7305785123966942,
          0.8294892915980231,
          0.7960725075528701,
          0.8577013291634089,
          0.7774647887323943,
          0.8041060735671514,
          0.7556521739130435
         ]
        }
       ],
       "layout": {
        "autosize": true,
        "coloraxis": {
         "colorbar": {
          "title": {
           "text": "color"
          }
         },
         "colorscale": [
          [
           0,
           "#440154"
          ],
          [
           0.1111111111111111,
           "#482878"
          ],
          [
           0.2222222222222222,
           "#3e4989"
          ],
          [
           0.3333333333333333,
           "#31688e"
          ],
          [
           0.4444444444444444,
           "#26828e"
          ],
          [
           0.5555555555555556,
           "#1f9e89"
          ],
          [
           0.6666666666666666,
           "#35b779"
          ],
          [
           0.7777777777777778,
           "#6ece58"
          ],
          [
           0.8888888888888888,
           "#b5de2b"
          ],
          [
           1,
           "#fde725"
          ]
         ]
        },
        "geo": {
         "center": {
          "lat": -59.24581970822096,
          "lon": -12.405375849996494
         },
         "domain": {
          "x": [
           0,
           1
          ],
          "y": [
           0,
           1
          ]
         },
         "projection": {
          "scale": 0.1789716196882128
         },
         "scope": "usa"
        },
        "legend": {
         "tracegroupgap": 0
        },
        "template": {
         "data": {
          "candlestick": [
           {
            "decreasing": {
             "line": {
              "color": "#000033"
             }
            },
            "increasing": {
             "line": {
              "color": "#000032"
             }
            },
            "type": "candlestick"
           }
          ],
          "contour": [
           {
            "colorscale": [
             [
              0,
              "#000011"
             ],
             [
              0.1111111111111111,
              "#000012"
             ],
             [
              0.2222222222222222,
              "#000013"
             ],
             [
              0.3333333333333333,
              "#000014"
             ],
             [
              0.4444444444444444,
              "#000015"
             ],
             [
              0.5555555555555556,
              "#000016"
             ],
             [
              0.6666666666666666,
              "#000017"
             ],
             [
              0.7777777777777778,
              "#000018"
             ],
             [
              0.8888888888888888,
              "#000019"
             ],
             [
              1,
              "#000020"
             ]
            ],
            "type": "contour"
           }
          ],
          "contourcarpet": [
           {
            "colorscale": [
             [
              0,
              "#000011"
             ],
             [
              0.1111111111111111,
              "#000012"
             ],
             [
              0.2222222222222222,
              "#000013"
             ],
             [
              0.3333333333333333,
              "#000014"
             ],
             [
              0.4444444444444444,
              "#000015"
             ],
             [
              0.5555555555555556,
              "#000016"
             ],
             [
              0.6666666666666666,
              "#000017"
             ],
             [
              0.7777777777777778,
              "#000018"
             ],
             [
              0.8888888888888888,
              "#000019"
             ],
             [
              1,
              "#000020"
             ]
            ],
            "type": "contourcarpet"
           }
          ],
          "heatmap": [
           {
            "colorscale": [
             [
              0,
              "#000011"
             ],
             [
              0.1111111111111111,
              "#000012"
             ],
             [
              0.2222222222222222,
              "#000013"
             ],
             [
              0.3333333333333333,
              "#000014"
             ],
             [
              0.4444444444444444,
              "#000015"
             ],
             [
              0.5555555555555556,
              "#000016"
             ],
             [
              0.6666666666666666,
              "#000017"
             ],
             [
              0.7777777777777778,
              "#000018"
             ],
             [
              0.8888888888888888,
              "#000019"
             ],
             [
              1,
              "#000020"
             ]
            ],
            "type": "heatmap"
           }
          ],
          "histogram2d": [
           {
            "colorscale": [
             [
              0,
              "#000011"
             ],
             [
              0.1111111111111111,
              "#000012"
             ],
             [
              0.2222222222222222,
              "#000013"
             ],
             [
              0.3333333333333333,
              "#000014"
             ],
             [
              0.4444444444444444,
              "#000015"
             ],
             [
              0.5555555555555556,
              "#000016"
             ],
             [
              0.6666666666666666,
              "#000017"
             ],
             [
              0.7777777777777778,
              "#000018"
             ],
             [
              0.8888888888888888,
              "#000019"
             ],
             [
              1,
              "#000020"
             ]
            ],
            "type": "histogram2d"
           }
          ],
          "icicle": [
           {
            "textfont": {
             "color": "white"
            },
            "type": "icicle"
           }
          ],
          "sankey": [
           {
            "textfont": {
             "color": "#000036"
            },
            "type": "sankey"
           }
          ],
          "scatter": [
           {
            "marker": {
             "line": {
              "width": 0
             }
            },
            "type": "scatter"
           }
          ],
          "table": [
           {
            "cells": {
             "fill": {
              "color": "#000038"
             },
             "font": {
              "color": "#000037"
             },
             "line": {
              "color": "#000039"
             }
            },
            "header": {
             "fill": {
              "color": "#000040"
             },
             "font": {
              "color": "#000036"
             },
             "line": {
              "color": "#000039"
             }
            },
            "type": "table"
           }
          ],
          "waterfall": [
           {
            "connector": {
             "line": {
              "color": "#000036",
              "width": 2
             }
            },
            "decreasing": {
             "marker": {
              "color": "#000033"
             }
            },
            "increasing": {
             "marker": {
              "color": "#000032"
             }
            },
            "totals": {
             "marker": {
              "color": "#000034"
             }
            },
            "type": "waterfall"
           }
          ]
         },
         "layout": {
          "coloraxis": {
           "colorscale": [
            [
             0,
             "#000011"
            ],
            [
             0.1111111111111111,
             "#000012"
            ],
            [
             0.2222222222222222,
             "#000013"
            ],
            [
             0.3333333333333333,
             "#000014"
            ],
            [
             0.4444444444444444,
             "#000015"
            ],
            [
             0.5555555555555556,
             "#000016"
            ],
            [
             0.6666666666666666,
             "#000017"
            ],
            [
             0.7777777777777778,
             "#000018"
            ],
            [
             0.8888888888888888,
             "#000019"
            ],
            [
             1,
             "#000020"
            ]
           ]
          },
          "colorscale": {
           "diverging": [
            [
             0,
             "#000021"
            ],
            [
             0.1,
             "#000022"
            ],
            [
             0.2,
             "#000023"
            ],
            [
             0.3,
             "#000024"
            ],
            [
             0.4,
             "#000025"
            ],
            [
             0.5,
             "#000026"
            ],
            [
             0.6,
             "#000027"
            ],
            [
             0.7,
             "#000028"
            ],
            [
             0.8,
             "#000029"
            ],
            [
             0.9,
             "#000030"
            ],
            [
             1,
             "#000031"
            ]
           ],
           "sequential": [
            [
             0,
             "#000011"
            ],
            [
             0.1111111111111111,
             "#000012"
            ],
            [
             0.2222222222222222,
             "#000013"
            ],
            [
             0.3333333333333333,
             "#000014"
            ],
            [
             0.4444444444444444,
             "#000015"
            ],
            [
             0.5555555555555556,
             "#000016"
            ],
            [
             0.6666666666666666,
             "#000017"
            ],
            [
             0.7777777777777778,
             "#000018"
            ],
            [
             0.8888888888888888,
             "#000019"
            ],
            [
             1,
             "#000020"
            ]
           ],
           "sequentialminus": [
            [
             0,
             "#000011"
            ],
            [
             0.1111111111111111,
             "#000012"
            ],
            [
             0.2222222222222222,
             "#000013"
            ],
            [
             0.3333333333333333,
             "#000014"
            ],
            [
             0.4444444444444444,
             "#000015"
            ],
            [
             0.5555555555555556,
             "#000016"
            ],
            [
             0.6666666666666666,
             "#000017"
            ],
            [
             0.7777777777777778,
             "#000018"
            ],
            [
             0.8888888888888888,
             "#000019"
            ],
            [
             1,
             "#000020"
            ]
           ]
          },
          "colorway": [
           "#000001",
           "#000002",
           "#000003",
           "#000004",
           "#000005",
           "#000006",
           "#000007",
           "#000008",
           "#000009",
           "#000010"
          ]
         }
        },
        "title": {
         "text": "2022 Weekly Proportional Earnings by States"
        }
       }
      },
      "image/png": "[encoded data removed]",
      "text/html": [
       "<div>                            <div id=\"7114d97e-870a-4c09-b3a6-de2ab687f728\" class=\"plotly-graph-div\" style=\"height:525px; width:100%;\"></div>            <script type=\"text/javascript\">                require([\"plotly\"], function(Plotly) {                    window.PLOTLYENV=window.PLOTLYENV || {};                                    if (document.getElementById(\"7114d97e-870a-4c09-b3a6-de2ab687f728\")) {                    Plotly.newPlot(                        \"7114d97e-870a-4c09-b3a6-de2ab687f728\",                        [{\"coloraxis\":\"coloraxis\",\"geo\":\"geo\",\"hovertemplate\":\"locations=%{location}\\u003cbr\\u003ecolor=%{z}\\u003cextra\\u003e\\u003c\\u002fextra\\u003e\",\"locationmode\":\"USA-states\",\"locations\":[\"AL\",\"AK\",\"AZ\",\"AR\",\"CA\",\"CO\",\"CT\",\"DE\",\"DC\",\"FL\",\"GA\",\"HI\",\"ID\",\"IL\",\"IN\",\"IA\",\"KS\",\"KY\",\"LA\",\"ME\",\"MD\",\"MA\",\"MI\",\"MN\",\"MS\",\"MO\",\"MT\",\"NE\",\"NV\",\"NH\",\"NJ\",\"NM\",\"NY\",\"NC\",\"ND\",\"OH\",\"OK\",\"OR\",\"PA\",\"RI\",\"SC\",\"SD\",\"TN\",\"TX\",\"UT\",\"VT\",\"VA\",\"WA\",\"WV\",\"WI\",\"WY\"],\"name\":\"\",\"z\":[0.797902764537655,0.8274445357436319,0.7996589940323956,0.8616352201257862,0.8683565004088307,0.8704268292682927,0.8077197998570408,0.9548133595284872,0.8667377398720683,0.8424657534246576,0.8196872125114996,0.8477112676056338,0.784331797235023,0.803486529318542,0.7763751127141569,0.8283302063789869,0.8526413345690455,0.8447937131630648,0.7725563909774437,0.8563586459286368,0.8661710037174721,0.8576341127922971,0.8245614035087719,0.9099173553719008,0.8289183222958058,0.7945945945945946,0.8170055452865065,0.8773408239700374,0.8005923000987167,0.7542561065877128,0.8348909657320872,0.8357771260997068,0.8652138821630347,0.8566001899335233,0.7894736842105263,0.8177697189483227,0.8077731092436975,0.8920265780730897,0.8209205020920503,0.9964973730297724,0.827755905511811,0.8234200743494424,0.8204393505253104,0.8304623753399819,0.7305785123966942,0.8294892915980231,0.7960725075528701,0.8577013291634089,0.7774647887323943,0.8041060735671514,0.7556521739130435],\"type\":\"choropleth\"}],                        {\"template\":{\"data\":{\"candlestick\":[{\"decreasing\":{\"line\":{\"color\":\"#000033\"}},\"increasing\":{\"line\":{\"color\":\"#000032\"}},\"type\":\"candlestick\"}],\"contourcarpet\":[{\"colorscale\":[[0.0,\"#000011\"],[0.1111111111111111,\"#000012\"],[0.2222222222222222,\"#000013\"],[0.3333333333333333,\"#000014\"],[0.4444444444444444,\"#000015\"],[0.5555555555555556,\"#000016\"],[0.6666666666666666,\"#000017\"],[0.7777777777777778,\"#000018\"],[0.8888888888888888,\"#000019\"],[1.0,\"#000020\"]],\"type\":\"contourcarpet\"}],\"contour\":[{\"colorscale\":[[0.0,\"#000011\"],[0.1111111111111111,\"#000012\"],[0.2222222222222222,\"#000013\"],[0.3333333333333333,\"#000014\"],[0.4444444444444444,\"#000015\"],[0.5555555555555556,\"#000016\"],[0.6666666666666666,\"#000017\"],[0.7777777777777778,\"#000018\"],[0.8888888888888888,\"#000019\"],[1.0,\"#000020\"]],\"type\":\"contour\"}],\"heatmap\":[{\"colorscale\":[[0.0,\"#000011\"],[0.1111111111111111,\"#000012\"],[0.2222222222222222,\"#000013\"],[0.3333333333333333,\"#000014\"],[0.4444444444444444,\"#000015\"],[0.5555555555555556,\"#000016\"],[0.6666666666666666,\"#000017\"],[0.7777777777777778,\"#000018\"],[0.8888888888888888,\"#000019\"],[1.0,\"#000020\"]],\"type\":\"heatmap\"}],\"histogram2d\":[{\"colorscale\":[[0.0,\"#000011\"],[0.1111111111111111,\"#000012\"],[0.2222222222222222,\"#000013\"],[0.3333333333333333,\"#000014\"],[0.4444444444444444,\"#000015\"],[0.5555555555555556,\"#000016\"],[0.6666666666666666,\"#000017\"],[0.7777777777777778,\"#000018\"],[0.8888888888888888,\"#000019\"],[1.0,\"#000020\"]],\"type\":\"histogram2d\"}],\"icicle\":[{\"textfont\":{\"color\":\"white\"},\"type\":\"icicle\"}],\"sankey\":[{\"textfont\":{\"color\":\"#000036\"},\"type\":\"sankey\"}],\"scatter\":[{\"marker\":{\"line\":{\"width\":0}},\"type\":\"scatter\"}],\"table\":[{\"cells\":{\"fill\":{\"color\":\"#000038\"},\"font\":{\"color\":\"#000037\"},\"line\":{\"color\":\"#000039\"}},\"header\":{\"fill\":{\"color\":\"#000040\"},\"font\":{\"color\":\"#000036\"},\"line\":{\"color\":\"#000039\"}},\"type\":\"table\"}],\"waterfall\":[{\"connector\":{\"line\":{\"color\":\"#000036\",\"width\":2}},\"decreasing\":{\"marker\":{\"color\":\"#000033\"}},\"increasing\":{\"marker\":{\"color\":\"#000032\"}},\"totals\":{\"marker\":{\"color\":\"#000034\"}},\"type\":\"waterfall\"}]},\"layout\":{\"coloraxis\":{\"colorscale\":[[0.0,\"#000011\"],[0.1111111111111111,\"#000012\"],[0.2222222222222222,\"#000013\"],[0.3333333333333333,\"#000014\"],[0.4444444444444444,\"#000015\"],[0.5555555555555556,\"#000016\"],[0.6666666666666666,\"#000017\"],[0.7777777777777778,\"#000018\"],[0.8888888888888888,\"#000019\"],[1.0,\"#000020\"]]},\"colorscale\":{\"diverging\":[[0.0,\"#000021\"],[0.1,\"#000022\"],[0.2,\"#000023\"],[0.3,\"#000024\"],[0.4,\"#000025\"],[0.5,\"#000026\"],[0.6,\"#000027\"],[0.7,\"#000028\"],[0.8,\"#000029\"],[0.9,\"#000030\"],[1.0,\"#000031\"]],\"sequential\":[[0.0,\"#000011\"],[0.1111111111111111,\"#000012\"],[0.2222222222222222,\"#000013\"],[0.3333333333333333,\"#000014\"],[0.4444444444444444,\"#000015\"],[0.5555555555555556,\"#000016\"],[0.6666666666666666,\"#000017\"],[0.7777777777777778,\"#000018\"],[0.8888888888888888,\"#000019\"],[1.0,\"#000020\"]],\"sequentialminus\":[[0.0,\"#000011\"],[0.1111111111111111,\"#000012\"],[0.2222222222222222,\"#000013\"],[0.3333333333333333,\"#000014\"],[0.4444444444444444,\"#000015\"],[0.5555555555555556,\"#000016\"],[0.6666666666666666,\"#000017\"],[0.7777777777777778,\"#000018\"],[0.8888888888888888,\"#000019\"],[1.0,\"#000020\"]]},\"colorway\":[\"#000001\",\"#000002\",\"#000003\",\"#000004\",\"#000005\",\"#000006\",\"#000007\",\"#000008\",\"#000009\",\"#000010\"]}},\"geo\":{\"domain\":{\"x\":[0.0,1.0],\"y\":[0.0,1.0]},\"center\":{},\"scope\":\"usa\"},\"coloraxis\":{\"colorbar\":{\"title\":{\"text\":\"color\"}},\"colorscale\":[[0.0,\"#440154\"],[0.1111111111111111,\"#482878\"],[0.2222222222222222,\"#3e4989\"],[0.3333333333333333,\"#31688e\"],[0.4444444444444444,\"#26828e\"],[0.5555555555555556,\"#1f9e89\"],[0.6666666666666666,\"#35b779\"],[0.7777777777777778,\"#6ece58\"],[0.8888888888888888,\"#b5de2b\"],[1.0,\"#fde725\"]]},\"legend\":{\"tracegroupgap\":0},\"title\":{\"text\":\"2022 Weekly Proportional Earnings by States\"}},                        {\"responsive\": true}                    ).then(function(){\n",
       "                            \n",
       "var gd = document.getElementById('7114d97e-870a-4c09-b3a6-de2ab687f728');\n",
       "var x = new MutationObserver(function (mutations, observer) {{\n",
       "        var display = window.getComputedStyle(gd).display;\n",
       "        if (!display || display === 'none') {{\n",
       "            console.log([gd, 'removed!']);\n",
       "            Plotly.purge(gd);\n",
       "            observer.disconnect();\n",
       "        }}\n",
       "}});\n",
       "\n",
       "// Listen for the removal of the full notebook cells\n",
       "var notebookContainer = gd.closest('#notebook-container');\n",
       "if (notebookContainer) {{\n",
       "    x.observe(notebookContainer, {childList: true});\n",
       "}}\n",
       "\n",
       "// Listen for the clearing of the current output cell\n",
       "var outputEl = gd.closest('.output');\n",
       "if (outputEl) {{\n",
       "    x.observe(outputEl, {childList: true});\n",
       "}}\n",
       "\n",
       "                        })                };                });            </script>        </div>"
      ]
     },
     "metadata": {},
     "output_type": "display_data"
    }
   ],
   "source": [
    "fig2 = px.choropleth(locations=grouped_df2[\"StatesAbb\"],\n",
    "                    locationmode=\"USA-states\",\n",
    "                    scope=\"usa\",\n",
    "                    color=grouped_df2[\"Proportion\"],\n",
    "                    color_continuous_scale=\"Viridis\",\n",
    "                    title=\"2022 Weekly Proportional Earnings by States\")\n",
    "fig2.show()"
   ]
  },
  {
   "cell_type": "code",
   "execution_count": 122,
   "id": "828fcbc8-12b0-4114-8291-d64e47832023",
   "metadata": {},
   "outputs": [],
   "source": [
    "df=pd.read_excel(\"Education.xlsx\")"
   ]
  },
  {
   "cell_type": "code",
   "execution_count": 123,
   "id": "fc7ce945-839d-4bbc-bc29-12f076aaee32",
   "metadata": {},
   "outputs": [
    {
     "data": {
      "text/plain": [
       "Index(['Year', 'F_Less_than_HS_diploma\\n', 'F_HS_grad_ no_college',\n",
       "       'F_Associate_degree', 'F_Bach_degree_<', 'M_Less_than_HS_diploma\\n',\n",
       "       'M_HS_grad_ no_college', 'M_Associate_degree', 'M_Bach_degree_<'],\n",
       "      dtype='object')"
      ]
     },
     "execution_count": 123,
     "metadata": {},
     "output_type": "execute_result"
    }
   ],
   "source": [
    "df.columns"
   ]
  },
  {
   "cell_type": "code",
   "execution_count": 124,
   "id": "8373e535-d519-4e74-931f-5e75963dc4e4",
   "metadata": {},
   "outputs": [],
   "source": [
    "new_column_names = {\n",
    "    'F_Less_than_HS_diploma\\n': 'Female Less than a HS diploma',\n",
    "    'F_HS_grad_ no_college': 'Female Hs graduate no college',\n",
    "    'F_Associate_degree': 'Female Associate degree',\n",
    "    'F_Bach_degree_<': 'Female Bach degree or more',\n",
    "    'M_Less_than_HS_diploma\\n': 'Male Less than a HS diploma',\n",
    "    'M_HS_grad_ no_college': 'Male Hs graduate no college',\n",
    "    'M_Associate_degree': 'Male Associate degree',\n",
    "    'M_Bach_degree_<': 'Male Bach degree or more'}\n",
    "df.rename(columns=new_column_names, inplace=True)"
   ]
  },
  {
   "cell_type": "code",
   "execution_count": 125,
   "id": "ebc5f444-0962-41b0-9cf2-ee4371450472",
   "metadata": {},
   "outputs": [
    {
     "data": {
      "application/vnd.plotly.v1+json": {
       "config": {
        "plotlyServerURL": "https://plot.ly"
       },
       "data": [
        {
         "hovertemplate": "Education level by Gender=Female Less than a HS diploma<br>Year=%{x}<br>Median Earns=%{y}<extra></extra>",
         "legendgroup": "Female Less than a HS diploma",
         "line": {
          "color": "#FFC0CB",
          "dash": "solid"
         },
         "marker": {
          "symbol": "circle"
         },
         "mode": "lines",
         "name": "Female Less than a HS diploma",
         "orientation": "v",
         "showlegend": true,
         "type": "scatter",
         "x": [
          1979,
          1980,
          1981,
          1982,
          1983,
          1984,
          1985,
          1986,
          1987,
          1988,
          1989,
          1990,
          1991,
          1992,
          1993,
          1994,
          1995,
          1996,
          1997,
          1998,
          1999,
          2000,
          2001,
          2002,
          2003,
          2004,
          2005,
          2006,
          2007,
          2008,
          2009,
          2010,
          2011,
          2012,
          2013,
          2014,
          2015,
          2016,
          2017,
          2018,
          2019,
          2020,
          2021,
          2022
         ],
         "xaxis": "x",
         "y": [
          574,
          556,
          543,
          538,
          548,
          539,
          526,
          533,
          531,
          529,
          530,
          524,
          526,
          527,
          527,
          505,
          503,
          501,
          503,
          511,
          512,
          520,
          525,
          532,
          526,
          520,
          514,
          523,
          523,
          516,
          524,
          524,
          516,
          494,
          504,
          507,
          518,
          517,
          535,
          549,
          567,
          595,
          595,
          594
         ],
         "yaxis": "y"
        },
        {
         "hovertemplate": "Education level by Gender=Female Hs graduate no college<br>Year=%{x}<br>Median Earns=%{y}<extra></extra>",
         "legendgroup": "Female Hs graduate no college",
         "line": {
          "color": "#FF69B4",
          "dash": "solid"
         },
         "marker": {
          "symbol": "circle"
         },
         "mode": "lines",
         "name": "Female Hs graduate no college",
         "orientation": "v",
         "showlegend": true,
         "type": "scatter",
         "x": [
          1979,
          1980,
          1981,
          1982,
          1983,
          1984,
          1985,
          1986,
          1987,
          1988,
          1989,
          1990,
          1991,
          1992,
          1993,
          1994,
          1995,
          1996,
          1997,
          1998,
          1999,
          2000,
          2001,
          2002,
          2003,
          2004,
          2005,
          2006,
          2007,
          2008,
          2009,
          2010,
          2011,
          2012,
          2013,
          2014,
          2015,
          2016,
          2017,
          2018,
          2019,
          2020,
          2021,
          2022
         ],
         "xaxis": "x",
         "y": [
          698,
          681,
          674,
          690,
          691,
          698,
          698,
          710,
          715,
          713,
          697,
          688,
          691,
          693,
          695,
          690,
          683,
          682,
          691,
          715,
          716,
          718,
          736,
          750,
          758,
          760,
          742,
          730,
          726,
          710,
          743,
          733,
          724,
          718,
          723,
          717,
          726,
          732,
          731,
          720,
          727,
          760,
          755,
          735
         ],
         "yaxis": "y"
        },
        {
         "hovertemplate": "Education level by Gender=Female Associate degree<br>Year=%{x}<br>Median Earns=%{y}<extra></extra>",
         "legendgroup": "Female Associate degree",
         "line": {
          "color": "#DB7093",
          "dash": "solid"
         },
         "marker": {
          "symbol": "circle"
         },
         "mode": "lines",
         "name": "Female Associate degree",
         "orientation": "v",
         "showlegend": true,
         "type": "scatter",
         "x": [
          1979,
          1980,
          1981,
          1982,
          1983,
          1984,
          1985,
          1986,
          1987,
          1988,
          1989,
          1990,
          1991,
          1992,
          1993,
          1994,
          1995,
          1996,
          1997,
          1998,
          1999,
          2000,
          2001,
          2002,
          2003,
          2004,
          2005,
          2006,
          2007,
          2008,
          2009,
          2010,
          2011,
          2012,
          2013,
          2014,
          2015,
          2016,
          2017,
          2018,
          2019,
          2020,
          2021,
          2022
         ],
         "xaxis": "x",
         "y": [
          796,
          783,
          792,
          801,
          809,
          822,
          826,
          846,
          861,
          861,
          869,
          862,
          861,
          837,
          846,
          831,
          820,
          826,
          839,
          859,
          862,
          863,
          864,
          889,
          896,
          899,
          884,
          879,
          864,
          858,
          864,
          861,
          843,
          844,
          828,
          820,
          823,
          841,
          838,
          839,
          846,
          882,
          868,
          847
         ],
         "yaxis": "y"
        },
        {
         "hovertemplate": "Education level by Gender=Female Bach degree or more<br>Year=%{x}<br>Median Earns=%{y}<extra></extra>",
         "legendgroup": "Female Bach degree or more",
         "line": {
          "color": "#C71585",
          "dash": "solid"
         },
         "marker": {
          "symbol": "circle"
         },
         "mode": "lines",
         "name": "Female Bach degree or more",
         "orientation": "v",
         "showlegend": true,
         "type": "scatter",
         "x": [
          1979,
          1980,
          1981,
          1982,
          1983,
          1984,
          1985,
          1986,
          1987,
          1988,
          1989,
          1990,
          1991,
          1992,
          1993,
          1994,
          1995,
          1996,
          1997,
          1998,
          1999,
          2000,
          2001,
          2002,
          2003,
          2004,
          2005,
          2006,
          2007,
          2008,
          2009,
          2010,
          2011,
          2012,
          2013,
          2014,
          2015,
          2016,
          2017,
          2018,
          2019,
          2020,
          2021,
          2022
         ],
         "xaxis": "x",
         "y": [
          996,
          983,
          988,
          1012,
          1037,
          1051,
          1078,
          1118,
          1156,
          1160,
          1163,
          1168,
          1183,
          1222,
          1224,
          1246,
          1236,
          1228,
          1229,
          1276,
          1307,
          1292,
          1306,
          1324,
          1331,
          1340,
          1330,
          1321,
          1322,
          1305,
          1331,
          1331,
          1305,
          1282,
          1315,
          1301,
          1318,
          1346,
          1354,
          1339,
          1372,
          1403,
          1375,
          1372
         ],
         "yaxis": "y"
        },
        {
         "hovertemplate": "Education level by Gender=Male Less than a HS diploma<br>Year=%{x}<br>Median Earns=%{y}<extra></extra>",
         "legendgroup": "Male Less than a HS diploma",
         "line": {
          "color": "#ADD8E6",
          "dash": "solid"
         },
         "marker": {
          "symbol": "circle"
         },
         "mode": "lines",
         "name": "Male Less than a HS diploma",
         "orientation": "v",
         "showlegend": true,
         "type": "scatter",
         "x": [
          1979,
          1980,
          1981,
          1982,
          1983,
          1984,
          1985,
          1986,
          1987,
          1988,
          1989,
          1990,
          1991,
          1992,
          1993,
          1994,
          1995,
          1996,
          1997,
          1998,
          1999,
          2000,
          2001,
          2002,
          2003,
          2004,
          2005,
          2006,
          2007,
          2008,
          2009,
          2010,
          2011,
          2012,
          2013,
          2014,
          2015,
          2016,
          2017,
          2018,
          2019,
          2020,
          2021,
          2022
         ],
         "xaxis": "x",
         "y": [
          951,
          905,
          888,
          857,
          846,
          830,
          818,
          823,
          804,
          794,
          794,
          762,
          735,
          722,
          713,
          672,
          666,
          667,
          667,
          691,
          698,
          694,
          696,
          689,
          686,
          695,
          685,
          685,
          682,
          679,
          686,
          656,
          638,
          650,
          631,
          641,
          644,
          674,
          699,
          710,
          739,
          763,
          739,
          745
         ],
         "yaxis": "y"
        },
        {
         "hovertemplate": "Education level by Gender=Male Hs graduate no college<br>Year=%{x}<br>Median Earns=%{y}<extra></extra>",
         "legendgroup": "Male Hs graduate no college",
         "line": {
          "color": "#87CEFA",
          "dash": "solid"
         },
         "marker": {
          "symbol": "circle"
         },
         "mode": "lines",
         "name": "Male Hs graduate no college",
         "orientation": "v",
         "showlegend": true,
         "type": "scatter",
         "x": [
          1979,
          1980,
          1981,
          1982,
          1983,
          1984,
          1985,
          1986,
          1987,
          1988,
          1989,
          1990,
          1991,
          1992,
          1993,
          1994,
          1995,
          1996,
          1997,
          1998,
          1999,
          2000,
          2001,
          2002,
          2003,
          2004,
          2005,
          2006,
          2007,
          2008,
          2009,
          2010,
          2011,
          2012,
          2013,
          2014,
          2015,
          2016,
          2017,
          2018,
          2019,
          2020,
          2021,
          2022
         ],
         "xaxis": "x",
         "y": [
          1162,
          1108,
          1106,
          1094,
          1090,
          1075,
          1060,
          1067,
          1050,
          1045,
          1032,
          1002,
          989,
          986,
          976,
          974,
          973,
          964,
          978,
          1009,
          1025,
          1010,
          1012,
          1010,
          1005,
          1005,
          982,
          990,
          977,
          969,
          982,
          958,
          941,
          941,
          923,
          932,
          941,
          940,
          954,
          958,
          969,
          998,
          977,
          945
         ],
         "yaxis": "y"
        },
        {
         "hovertemplate": "Education level by Gender=Male Associate degree<br>Year=%{x}<br>Median Earns=%{y}<extra></extra>",
         "legendgroup": "Male Associate degree",
         "line": {
          "color": "#6495ED",
          "dash": "solid"
         },
         "marker": {
          "symbol": "circle"
         },
         "mode": "lines",
         "name": "Male Associate degree",
         "orientation": "v",
         "showlegend": true,
         "type": "scatter",
         "x": [
          1979,
          1980,
          1981,
          1982,
          1983,
          1984,
          1985,
          1986,
          1987,
          1988,
          1989,
          1990,
          1991,
          1992,
          1993,
          1994,
          1995,
          1996,
          1997,
          1998,
          1999,
          2000,
          2001,
          2002,
          2003,
          2004,
          2005,
          2006,
          2007,
          2008,
          2009,
          2010,
          2011,
          2012,
          2013,
          2014,
          2015,
          2016,
          2017,
          2018,
          2019,
          2020,
          2021,
          2022
         ],
         "xaxis": "x",
         "y": [
          1242,
          1214,
          1208,
          1202,
          1185,
          1202,
          1229,
          1244,
          1233,
          1203,
          1186,
          1183,
          1185,
          1142,
          1146,
          1153,
          1144,
          1129,
          1135,
          1161,
          1175,
          1181,
          1201,
          1196,
          1184,
          1185,
          1154,
          1162,
          1149,
          1134,
          1145,
          1140,
          1098,
          1097,
          1082,
          1082,
          1094,
          1095,
          1098,
          1112,
          1138,
          1163,
          1132,
          1111
         ],
         "yaxis": "y"
        },
        {
         "hovertemplate": "Education level by Gender=Male Bach degree or more<br>Year=%{x}<br>Median Earns=%{y}<extra></extra>",
         "legendgroup": "Male Bach degree or more",
         "line": {
          "color": "#0000FF",
          "dash": "solid"
         },
         "marker": {
          "symbol": "circle"
         },
         "mode": "lines",
         "name": "Male Bach degree or more",
         "orientation": "v",
         "showlegend": true,
         "type": "scatter",
         "x": [
          1979,
          1980,
          1981,
          1982,
          1983,
          1984,
          1985,
          1986,
          1987,
          1988,
          1989,
          1990,
          1991,
          1992,
          1993,
          1994,
          1995,
          1996,
          1997,
          1998,
          1999,
          2000,
          2001,
          2002,
          2003,
          2004,
          2005,
          2006,
          2007,
          2008,
          2009,
          2010,
          2011,
          2012,
          2013,
          2014,
          2015,
          2016,
          2017,
          2018,
          2019,
          2020,
          2021,
          2022
         ],
         "xaxis": "x",
         "y": [
          1494,
          1447,
          1475,
          1471,
          1455,
          1515,
          1536,
          1585,
          1620,
          1624,
          1617,
          1618,
          1608,
          1628,
          1615,
          1623,
          1622,
          1634,
          1638,
          1695,
          1726,
          1744,
          1772,
          1784,
          1810,
          1780,
          1758,
          1759,
          1763,
          1755,
          1820,
          1795,
          1741,
          1755,
          1759,
          1718,
          1760,
          1790,
          1774,
          1782,
          1806,
          1862,
          1796,
          1765
         ],
         "yaxis": "y"
        }
       ],
       "layout": {
        "autosize": true,
        "legend": {
         "title": {
          "text": "Education level by Gender"
         },
         "tracegroupgap": 0
        },
        "template": {
         "data": {
          "candlestick": [
           {
            "decreasing": {
             "line": {
              "color": "#000033"
             }
            },
            "increasing": {
             "line": {
              "color": "#000032"
             }
            },
            "type": "candlestick"
           }
          ],
          "contour": [
           {
            "colorscale": [
             [
              0,
              "#000011"
             ],
             [
              0.1111111111111111,
              "#000012"
             ],
             [
              0.2222222222222222,
              "#000013"
             ],
             [
              0.3333333333333333,
              "#000014"
             ],
             [
              0.4444444444444444,
              "#000015"
             ],
             [
              0.5555555555555556,
              "#000016"
             ],
             [
              0.6666666666666666,
              "#000017"
             ],
             [
              0.7777777777777778,
              "#000018"
             ],
             [
              0.8888888888888888,
              "#000019"
             ],
             [
              1,
              "#000020"
             ]
            ],
            "type": "contour"
           }
          ],
          "contourcarpet": [
           {
            "colorscale": [
             [
              0,
              "#000011"
             ],
             [
              0.1111111111111111,
              "#000012"
             ],
             [
              0.2222222222222222,
              "#000013"
             ],
             [
              0.3333333333333333,
              "#000014"
             ],
             [
              0.4444444444444444,
              "#000015"
             ],
             [
              0.5555555555555556,
              "#000016"
             ],
             [
              0.6666666666666666,
              "#000017"
             ],
             [
              0.7777777777777778,
              "#000018"
             ],
             [
              0.8888888888888888,
              "#000019"
             ],
             [
              1,
              "#000020"
             ]
            ],
            "type": "contourcarpet"
           }
          ],
          "heatmap": [
           {
            "colorscale": [
             [
              0,
              "#000011"
             ],
             [
              0.1111111111111111,
              "#000012"
             ],
             [
              0.2222222222222222,
              "#000013"
             ],
             [
              0.3333333333333333,
              "#000014"
             ],
             [
              0.4444444444444444,
              "#000015"
             ],
             [
              0.5555555555555556,
              "#000016"
             ],
             [
              0.6666666666666666,
              "#000017"
             ],
             [
              0.7777777777777778,
              "#000018"
             ],
             [
              0.8888888888888888,
              "#000019"
             ],
             [
              1,
              "#000020"
             ]
            ],
            "type": "heatmap"
           }
          ],
          "histogram2d": [
           {
            "colorscale": [
             [
              0,
              "#000011"
             ],
             [
              0.1111111111111111,
              "#000012"
             ],
             [
              0.2222222222222222,
              "#000013"
             ],
             [
              0.3333333333333333,
              "#000014"
             ],
             [
              0.4444444444444444,
              "#000015"
             ],
             [
              0.5555555555555556,
              "#000016"
             ],
             [
              0.6666666666666666,
              "#000017"
             ],
             [
              0.7777777777777778,
              "#000018"
             ],
             [
              0.8888888888888888,
              "#000019"
             ],
             [
              1,
              "#000020"
             ]
            ],
            "type": "histogram2d"
           }
          ],
          "icicle": [
           {
            "textfont": {
             "color": "white"
            },
            "type": "icicle"
           }
          ],
          "sankey": [
           {
            "textfont": {
             "color": "#000036"
            },
            "type": "sankey"
           }
          ],
          "scatter": [
           {
            "marker": {
             "line": {
              "width": 0
             }
            },
            "type": "scatter"
           }
          ],
          "table": [
           {
            "cells": {
             "fill": {
              "color": "#000038"
             },
             "font": {
              "color": "#000037"
             },
             "line": {
              "color": "#000039"
             }
            },
            "header": {
             "fill": {
              "color": "#000040"
             },
             "font": {
              "color": "#000036"
             },
             "line": {
              "color": "#000039"
             }
            },
            "type": "table"
           }
          ],
          "waterfall": [
           {
            "connector": {
             "line": {
              "color": "#000036",
              "width": 2
             }
            },
            "decreasing": {
             "marker": {
              "color": "#000033"
             }
            },
            "increasing": {
             "marker": {
              "color": "#000032"
             }
            },
            "totals": {
             "marker": {
              "color": "#000034"
             }
            },
            "type": "waterfall"
           }
          ]
         },
         "layout": {
          "coloraxis": {
           "colorscale": [
            [
             0,
             "#000011"
            ],
            [
             0.1111111111111111,
             "#000012"
            ],
            [
             0.2222222222222222,
             "#000013"
            ],
            [
             0.3333333333333333,
             "#000014"
            ],
            [
             0.4444444444444444,
             "#000015"
            ],
            [
             0.5555555555555556,
             "#000016"
            ],
            [
             0.6666666666666666,
             "#000017"
            ],
            [
             0.7777777777777778,
             "#000018"
            ],
            [
             0.8888888888888888,
             "#000019"
            ],
            [
             1,
             "#000020"
            ]
           ]
          },
          "colorscale": {
           "diverging": [
            [
             0,
             "#000021"
            ],
            [
             0.1,
             "#000022"
            ],
            [
             0.2,
             "#000023"
            ],
            [
             0.3,
             "#000024"
            ],
            [
             0.4,
             "#000025"
            ],
            [
             0.5,
             "#000026"
            ],
            [
             0.6,
             "#000027"
            ],
            [
             0.7,
             "#000028"
            ],
            [
             0.8,
             "#000029"
            ],
            [
             0.9,
             "#000030"
            ],
            [
             1,
             "#000031"
            ]
           ],
           "sequential": [
            [
             0,
             "#000011"
            ],
            [
             0.1111111111111111,
             "#000012"
            ],
            [
             0.2222222222222222,
             "#000013"
            ],
            [
             0.3333333333333333,
             "#000014"
            ],
            [
             0.4444444444444444,
             "#000015"
            ],
            [
             0.5555555555555556,
             "#000016"
            ],
            [
             0.6666666666666666,
             "#000017"
            ],
            [
             0.7777777777777778,
             "#000018"
            ],
            [
             0.8888888888888888,
             "#000019"
            ],
            [
             1,
             "#000020"
            ]
           ],
           "sequentialminus": [
            [
             0,
             "#000011"
            ],
            [
             0.1111111111111111,
             "#000012"
            ],
            [
             0.2222222222222222,
             "#000013"
            ],
            [
             0.3333333333333333,
             "#000014"
            ],
            [
             0.4444444444444444,
             "#000015"
            ],
            [
             0.5555555555555556,
             "#000016"
            ],
            [
             0.6666666666666666,
             "#000017"
            ],
            [
             0.7777777777777778,
             "#000018"
            ],
            [
             0.8888888888888888,
             "#000019"
            ],
            [
             1,
             "#000020"
            ]
           ]
          },
          "colorway": [
           "#000001",
           "#000002",
           "#000003",
           "#000004",
           "#000005",
           "#000006",
           "#000007",
           "#000008",
           "#000009",
           "#000010"
          ]
         }
        },
        "title": {
         "text": "Yearly Median Earnings by Education Level"
        },
        "xaxis": {
         "anchor": "y",
         "autorange": true,
         "domain": [
          0,
          1
         ],
         "range": [
          1979,
          2022
         ],
         "title": {
          "text": "Year"
         },
         "type": "linear"
        },
        "yaxis": {
         "anchor": "x",
         "autorange": true,
         "domain": [
          0,
          1
         ],
         "range": [
          418,
          1938
         ],
         "title": {
          "text": "Median Weekly Earnings"
         },
         "type": "linear"
        }
       }
      },
      "image/png": "[encoded data removed]",
      "text/html": [
       "<div>                            <div id=\"7660adfc-3905-4bdf-b682-3a67caf46863\" class=\"plotly-graph-div\" style=\"height:525px; width:100%;\"></div>            <script type=\"text/javascript\">                require([\"plotly\"], function(Plotly) {                    window.PLOTLYENV=window.PLOTLYENV || {};                                    if (document.getElementById(\"7660adfc-3905-4bdf-b682-3a67caf46863\")) {                    Plotly.newPlot(                        \"7660adfc-3905-4bdf-b682-3a67caf46863\",                        [{\"hovertemplate\":\"Education level by Gender=Female Less than a HS diploma\\u003cbr\\u003eYear=%{x}\\u003cbr\\u003eMedian Earns=%{y}\\u003cextra\\u003e\\u003c\\u002fextra\\u003e\",\"legendgroup\":\"Female Less than a HS diploma\",\"line\":{\"color\":\"#FFC0CB\",\"dash\":\"solid\"},\"marker\":{\"symbol\":\"circle\"},\"mode\":\"lines\",\"name\":\"Female Less than a HS diploma\",\"orientation\":\"v\",\"showlegend\":true,\"x\":[1979,1980,1981,1982,1983,1984,1985,1986,1987,1988,1989,1990,1991,1992,1993,1994,1995,1996,1997,1998,1999,2000,2001,2002,2003,2004,2005,2006,2007,2008,2009,2010,2011,2012,2013,2014,2015,2016,2017,2018,2019,2020,2021,2022],\"xaxis\":\"x\",\"y\":[574,556,543,538,548,539,526,533,531,529,530,524,526,527,527,505,503,501,503,511,512,520,525,532,526,520,514,523,523,516,524,524,516,494,504,507,518,517,535,549,567,595,595,594],\"yaxis\":\"y\",\"type\":\"scatter\"},{\"hovertemplate\":\"Education level by Gender=Female Hs graduate no college\\u003cbr\\u003eYear=%{x}\\u003cbr\\u003eMedian Earns=%{y}\\u003cextra\\u003e\\u003c\\u002fextra\\u003e\",\"legendgroup\":\"Female Hs graduate no college\",\"line\":{\"color\":\"#FF69B4\",\"dash\":\"solid\"},\"marker\":{\"symbol\":\"circle\"},\"mode\":\"lines\",\"name\":\"Female Hs graduate no college\",\"orientation\":\"v\",\"showlegend\":true,\"x\":[1979,1980,1981,1982,1983,1984,1985,1986,1987,1988,1989,1990,1991,1992,1993,1994,1995,1996,1997,1998,1999,2000,2001,2002,2003,2004,2005,2006,2007,2008,2009,2010,2011,2012,2013,2014,2015,2016,2017,2018,2019,2020,2021,2022],\"xaxis\":\"x\",\"y\":[698,681,674,690,691,698,698,710,715,713,697,688,691,693,695,690,683,682,691,715,716,718,736,750,758,760,742,730,726,710,743,733,724,718,723,717,726,732,731,720,727,760,755,735],\"yaxis\":\"y\",\"type\":\"scatter\"},{\"hovertemplate\":\"Education level by Gender=Female Associate degree\\u003cbr\\u003eYear=%{x}\\u003cbr\\u003eMedian Earns=%{y}\\u003cextra\\u003e\\u003c\\u002fextra\\u003e\",\"legendgroup\":\"Female Associate degree\",\"line\":{\"color\":\"#DB7093\",\"dash\":\"solid\"},\"marker\":{\"symbol\":\"circle\"},\"mode\":\"lines\",\"name\":\"Female Associate degree\",\"orientation\":\"v\",\"showlegend\":true,\"x\":[1979,1980,1981,1982,1983,1984,1985,1986,1987,1988,1989,1990,1991,1992,1993,1994,1995,1996,1997,1998,1999,2000,2001,2002,2003,2004,2005,2006,2007,2008,2009,2010,2011,2012,2013,2014,2015,2016,2017,2018,2019,2020,2021,2022],\"xaxis\":\"x\",\"y\":[796,783,792,801,809,822,826,846,861,861,869,862,861,837,846,831,820,826,839,859,862,863,864,889,896,899,884,879,864,858,864,861,843,844,828,820,823,841,838,839,846,882,868,847],\"yaxis\":\"y\",\"type\":\"scatter\"},{\"hovertemplate\":\"Education level by Gender=Female Bach degree or more\\u003cbr\\u003eYear=%{x}\\u003cbr\\u003eMedian Earns=%{y}\\u003cextra\\u003e\\u003c\\u002fextra\\u003e\",\"legendgroup\":\"Female Bach degree or more\",\"line\":{\"color\":\"#C71585\",\"dash\":\"solid\"},\"marker\":{\"symbol\":\"circle\"},\"mode\":\"lines\",\"name\":\"Female Bach degree or more\",\"orientation\":\"v\",\"showlegend\":true,\"x\":[1979,1980,1981,1982,1983,1984,1985,1986,1987,1988,1989,1990,1991,1992,1993,1994,1995,1996,1997,1998,1999,2000,2001,2002,2003,2004,2005,2006,2007,2008,2009,2010,2011,2012,2013,2014,2015,2016,2017,2018,2019,2020,2021,2022],\"xaxis\":\"x\",\"y\":[996,983,988,1012,1037,1051,1078,1118,1156,1160,1163,1168,1183,1222,1224,1246,1236,1228,1229,1276,1307,1292,1306,1324,1331,1340,1330,1321,1322,1305,1331,1331,1305,1282,1315,1301,1318,1346,1354,1339,1372,1403,1375,1372],\"yaxis\":\"y\",\"type\":\"scatter\"},{\"hovertemplate\":\"Education level by Gender=Male Less than a HS diploma\\u003cbr\\u003eYear=%{x}\\u003cbr\\u003eMedian Earns=%{y}\\u003cextra\\u003e\\u003c\\u002fextra\\u003e\",\"legendgroup\":\"Male Less than a HS diploma\",\"line\":{\"color\":\"#ADD8E6\",\"dash\":\"solid\"},\"marker\":{\"symbol\":\"circle\"},\"mode\":\"lines\",\"name\":\"Male Less than a HS diploma\",\"orientation\":\"v\",\"showlegend\":true,\"x\":[1979,1980,1981,1982,1983,1984,1985,1986,1987,1988,1989,1990,1991,1992,1993,1994,1995,1996,1997,1998,1999,2000,2001,2002,2003,2004,2005,2006,2007,2008,2009,2010,2011,2012,2013,2014,2015,2016,2017,2018,2019,2020,2021,2022],\"xaxis\":\"x\",\"y\":[951,905,888,857,846,830,818,823,804,794,794,762,735,722,713,672,666,667,667,691,698,694,696,689,686,695,685,685,682,679,686,656,638,650,631,641,644,674,699,710,739,763,739,745],\"yaxis\":\"y\",\"type\":\"scatter\"},{\"hovertemplate\":\"Education level by Gender=Male Hs graduate no college\\u003cbr\\u003eYear=%{x}\\u003cbr\\u003eMedian Earns=%{y}\\u003cextra\\u003e\\u003c\\u002fextra\\u003e\",\"legendgroup\":\"Male Hs graduate no college\",\"line\":{\"color\":\"#87CEFA\",\"dash\":\"solid\"},\"marker\":{\"symbol\":\"circle\"},\"mode\":\"lines\",\"name\":\"Male Hs graduate no college\",\"orientation\":\"v\",\"showlegend\":true,\"x\":[1979,1980,1981,1982,1983,1984,1985,1986,1987,1988,1989,1990,1991,1992,1993,1994,1995,1996,1997,1998,1999,2000,2001,2002,2003,2004,2005,2006,2007,2008,2009,2010,2011,2012,2013,2014,2015,2016,2017,2018,2019,2020,2021,2022],\"xaxis\":\"x\",\"y\":[1162,1108,1106,1094,1090,1075,1060,1067,1050,1045,1032,1002,989,986,976,974,973,964,978,1009,1025,1010,1012,1010,1005,1005,982,990,977,969,982,958,941,941,923,932,941,940,954,958,969,998,977,945],\"yaxis\":\"y\",\"type\":\"scatter\"},{\"hovertemplate\":\"Education level by Gender=Male Associate degree\\u003cbr\\u003eYear=%{x}\\u003cbr\\u003eMedian Earns=%{y}\\u003cextra\\u003e\\u003c\\u002fextra\\u003e\",\"legendgroup\":\"Male Associate degree\",\"line\":{\"color\":\"#6495ED\",\"dash\":\"solid\"},\"marker\":{\"symbol\":\"circle\"},\"mode\":\"lines\",\"name\":\"Male Associate degree\",\"orientation\":\"v\",\"showlegend\":true,\"x\":[1979,1980,1981,1982,1983,1984,1985,1986,1987,1988,1989,1990,1991,1992,1993,1994,1995,1996,1997,1998,1999,2000,2001,2002,2003,2004,2005,2006,2007,2008,2009,2010,2011,2012,2013,2014,2015,2016,2017,2018,2019,2020,2021,2022],\"xaxis\":\"x\",\"y\":[1242,1214,1208,1202,1185,1202,1229,1244,1233,1203,1186,1183,1185,1142,1146,1153,1144,1129,1135,1161,1175,1181,1201,1196,1184,1185,1154,1162,1149,1134,1145,1140,1098,1097,1082,1082,1094,1095,1098,1112,1138,1163,1132,1111],\"yaxis\":\"y\",\"type\":\"scatter\"},{\"hovertemplate\":\"Education level by Gender=Male Bach degree or more\\u003cbr\\u003eYear=%{x}\\u003cbr\\u003eMedian Earns=%{y}\\u003cextra\\u003e\\u003c\\u002fextra\\u003e\",\"legendgroup\":\"Male Bach degree or more\",\"line\":{\"color\":\"#0000FF\",\"dash\":\"solid\"},\"marker\":{\"symbol\":\"circle\"},\"mode\":\"lines\",\"name\":\"Male Bach degree or more\",\"orientation\":\"v\",\"showlegend\":true,\"x\":[1979,1980,1981,1982,1983,1984,1985,1986,1987,1988,1989,1990,1991,1992,1993,1994,1995,1996,1997,1998,1999,2000,2001,2002,2003,2004,2005,2006,2007,2008,2009,2010,2011,2012,2013,2014,2015,2016,2017,2018,2019,2020,2021,2022],\"xaxis\":\"x\",\"y\":[1494,1447,1475,1471,1455,1515,1536,1585,1620,1624,1617,1618,1608,1628,1615,1623,1622,1634,1638,1695,1726,1744,1772,1784,1810,1780,1758,1759,1763,1755,1820,1795,1741,1755,1759,1718,1760,1790,1774,1782,1806,1862,1796,1765],\"yaxis\":\"y\",\"type\":\"scatter\"}],                        {\"template\":{\"data\":{\"candlestick\":[{\"decreasing\":{\"line\":{\"color\":\"#000033\"}},\"increasing\":{\"line\":{\"color\":\"#000032\"}},\"type\":\"candlestick\"}],\"contourcarpet\":[{\"colorscale\":[[0.0,\"#000011\"],[0.1111111111111111,\"#000012\"],[0.2222222222222222,\"#000013\"],[0.3333333333333333,\"#000014\"],[0.4444444444444444,\"#000015\"],[0.5555555555555556,\"#000016\"],[0.6666666666666666,\"#000017\"],[0.7777777777777778,\"#000018\"],[0.8888888888888888,\"#000019\"],[1.0,\"#000020\"]],\"type\":\"contourcarpet\"}],\"contour\":[{\"colorscale\":[[0.0,\"#000011\"],[0.1111111111111111,\"#000012\"],[0.2222222222222222,\"#000013\"],[0.3333333333333333,\"#000014\"],[0.4444444444444444,\"#000015\"],[0.5555555555555556,\"#000016\"],[0.6666666666666666,\"#000017\"],[0.7777777777777778,\"#000018\"],[0.8888888888888888,\"#000019\"],[1.0,\"#000020\"]],\"type\":\"contour\"}],\"heatmap\":[{\"colorscale\":[[0.0,\"#000011\"],[0.1111111111111111,\"#000012\"],[0.2222222222222222,\"#000013\"],[0.3333333333333333,\"#000014\"],[0.4444444444444444,\"#000015\"],[0.5555555555555556,\"#000016\"],[0.6666666666666666,\"#000017\"],[0.7777777777777778,\"#000018\"],[0.8888888888888888,\"#000019\"],[1.0,\"#000020\"]],\"type\":\"heatmap\"}],\"histogram2d\":[{\"colorscale\":[[0.0,\"#000011\"],[0.1111111111111111,\"#000012\"],[0.2222222222222222,\"#000013\"],[0.3333333333333333,\"#000014\"],[0.4444444444444444,\"#000015\"],[0.5555555555555556,\"#000016\"],[0.6666666666666666,\"#000017\"],[0.7777777777777778,\"#000018\"],[0.8888888888888888,\"#000019\"],[1.0,\"#000020\"]],\"type\":\"histogram2d\"}],\"icicle\":[{\"textfont\":{\"color\":\"white\"},\"type\":\"icicle\"}],\"sankey\":[{\"textfont\":{\"color\":\"#000036\"},\"type\":\"sankey\"}],\"scatter\":[{\"marker\":{\"line\":{\"width\":0}},\"type\":\"scatter\"}],\"table\":[{\"cells\":{\"fill\":{\"color\":\"#000038\"},\"font\":{\"color\":\"#000037\"},\"line\":{\"color\":\"#000039\"}},\"header\":{\"fill\":{\"color\":\"#000040\"},\"font\":{\"color\":\"#000036\"},\"line\":{\"color\":\"#000039\"}},\"type\":\"table\"}],\"waterfall\":[{\"connector\":{\"line\":{\"color\":\"#000036\",\"width\":2}},\"decreasing\":{\"marker\":{\"color\":\"#000033\"}},\"increasing\":{\"marker\":{\"color\":\"#000032\"}},\"totals\":{\"marker\":{\"color\":\"#000034\"}},\"type\":\"waterfall\"}]},\"layout\":{\"coloraxis\":{\"colorscale\":[[0.0,\"#000011\"],[0.1111111111111111,\"#000012\"],[0.2222222222222222,\"#000013\"],[0.3333333333333333,\"#000014\"],[0.4444444444444444,\"#000015\"],[0.5555555555555556,\"#000016\"],[0.6666666666666666,\"#000017\"],[0.7777777777777778,\"#000018\"],[0.8888888888888888,\"#000019\"],[1.0,\"#000020\"]]},\"colorscale\":{\"diverging\":[[0.0,\"#000021\"],[0.1,\"#000022\"],[0.2,\"#000023\"],[0.3,\"#000024\"],[0.4,\"#000025\"],[0.5,\"#000026\"],[0.6,\"#000027\"],[0.7,\"#000028\"],[0.8,\"#000029\"],[0.9,\"#000030\"],[1.0,\"#000031\"]],\"sequential\":[[0.0,\"#000011\"],[0.1111111111111111,\"#000012\"],[0.2222222222222222,\"#000013\"],[0.3333333333333333,\"#000014\"],[0.4444444444444444,\"#000015\"],[0.5555555555555556,\"#000016\"],[0.6666666666666666,\"#000017\"],[0.7777777777777778,\"#000018\"],[0.8888888888888888,\"#000019\"],[1.0,\"#000020\"]],\"sequentialminus\":[[0.0,\"#000011\"],[0.1111111111111111,\"#000012\"],[0.2222222222222222,\"#000013\"],[0.3333333333333333,\"#000014\"],[0.4444444444444444,\"#000015\"],[0.5555555555555556,\"#000016\"],[0.6666666666666666,\"#000017\"],[0.7777777777777778,\"#000018\"],[0.8888888888888888,\"#000019\"],[1.0,\"#000020\"]]},\"colorway\":[\"#000001\",\"#000002\",\"#000003\",\"#000004\",\"#000005\",\"#000006\",\"#000007\",\"#000008\",\"#000009\",\"#000010\"]}},\"xaxis\":{\"anchor\":\"y\",\"domain\":[0.0,1.0],\"title\":{\"text\":\"Year\"}},\"yaxis\":{\"anchor\":\"x\",\"domain\":[0.0,1.0],\"title\":{\"text\":\"Median Weekly Earnings\"}},\"legend\":{\"title\":{\"text\":\"Education level by Gender\"},\"tracegroupgap\":0},\"title\":{\"text\":\"Yearly Median Earnings by Education Level\"}},                        {\"responsive\": true}                    ).then(function(){\n",
       "                            \n",
       "var gd = document.getElementById('7660adfc-3905-4bdf-b682-3a67caf46863');\n",
       "var x = new MutationObserver(function (mutations, observer) {{\n",
       "        var display = window.getComputedStyle(gd).display;\n",
       "        if (!display || display === 'none') {{\n",
       "            console.log([gd, 'removed!']);\n",
       "            Plotly.purge(gd);\n",
       "            observer.disconnect();\n",
       "        }}\n",
       "}});\n",
       "\n",
       "// Listen for the removal of the full notebook cells\n",
       "var notebookContainer = gd.closest('#notebook-container');\n",
       "if (notebookContainer) {{\n",
       "    x.observe(notebookContainer, {childList: true});\n",
       "}}\n",
       "\n",
       "// Listen for the clearing of the current output cell\n",
       "var outputEl = gd.closest('.output');\n",
       "if (outputEl) {{\n",
       "    x.observe(outputEl, {childList: true});\n",
       "}}\n",
       "\n",
       "                        })                };                });            </script>        </div>"
      ]
     },
     "metadata": {},
     "output_type": "display_data"
    }
   ],
   "source": [
    "df_melted = df.melt(id_vars=\"Year\", var_name=\"Education level by Gender\", value_name=\"Median Earns\")\n",
    "\n",
    "color_map = {\n",
    "    'Female Less than a HS diploma': '#FFC0CB',\n",
    "    'Male Less than a HS diploma': '#ADD8E6',\n",
    "    'Female Hs graduate no college': '#FF69B4',\n",
    "    'Male Hs graduate no college': '#87CEFA',\n",
    "    'Female Associate degree': '#DB7093',\n",
    "    'Male Associate degree': '#6495ED',\n",
    "    'Female Bach degree or more': '#C71585',\n",
    "    'Male Bach degree or more': '#0000FF'\n",
    "}\n",
    "\n",
    "colors = df_melted['Education level by Gender'].map(color_map)\n",
    "\n",
    "fig3 = px.line(df_melted, x='Year', y='Median Earns', color='Education level by Gender',\n",
    "              color_discrete_map=color_map,  \n",
    "              title='Yearly Median Earnings by Education Level')\n",
    "fig3.update_xaxes(title_text='Year')\n",
    "fig3.update_yaxes(title_text='Median Weekly Earnings')\n"
   ]
  },
  {
   "cell_type": "code",
   "execution_count": null,
   "id": "4d376cbb-6da1-4763-a9a8-64971d91c543",
   "metadata": {},
   "outputs": [],
   "source": [
    "!streamlit run GenderWageGap.py"
   ]
  },
  {
   "cell_type": "code",
   "execution_count": null,
   "id": "33f582c2-f37a-4098-aa36-8bd936cf07e0",
   "metadata": {},
   "outputs": [],
   "source": []
  },
  {
   "cell_type": "code",
   "execution_count": null,
   "id": "975ed59e-1fc2-43eb-b0e3-2319d5a28a04",
   "metadata": {},
   "outputs": [],
   "source": []
  }
 ],
 "metadata": {
  "kernelspec": {
   "display_name": "Python 3 (ipykernel)",
   "language": "python",
   "name": "python3"
  },
  "language_info": {
   "codemirror_mode": {
    "name": "ipython",
    "version": 3
   },
   "file_extension": ".py",
   "mimetype": "text/x-python",
   "name": "python",
   "nbconvert_exporter": "python",
   "pygments_lexer": "ipython3",
   "version": "3.11.8"
  }
 },
 "nbformat": 4,
 "nbformat_minor": 5
}
